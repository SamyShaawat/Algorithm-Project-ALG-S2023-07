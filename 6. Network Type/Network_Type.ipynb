{
 "cells": [
  {
   "cell_type": "code",
   "execution_count": null,
   "metadata": {},
   "outputs": [],
   "source": [
    "# Read average degree and average clustering coefficient from Network_Properties txt file : taken from Degree of the graph and Clustering Coefficients txt files\n",
    "with open(\"Network_Properties.txt\", \"r\") as file:\n",
    "    lines = file.readlines()\n",
    "    average_degree = float(lines[0].split(\":\")[1].strip())\n",
    "    average_clustering_coefficient = float(lines[1].split(\":\")[1].strip())"
   ]
  },
  {
   "cell_type": "code",
   "execution_count": null,
   "metadata": {},
   "outputs": [],
   "source": [
    "# Determine the network type based on the properties\n",
    "network_type = None\n",
    "if average_degree < 2:\n",
    "    network_type = \"Isolated Nodes\"\n",
    "elif average_clustering_coefficient < 0.1:\n",
    "    network_type = \"Random Network\"\n",
    "elif average_degree > 10 and average_clustering_coefficient > 0.5:\n",
    "    network_type = \"Small-World Network\"\n",
    "else:\n",
    "    network_type = \"Complex Network\""
   ]
  },
  {
   "cell_type": "code",
   "execution_count": null,
   "metadata": {},
   "outputs": [],
   "source": [
    "# Save the network type to a file\n",
    "output_file = \"Network_Type_results.txt\"\n",
    "with open(output_file, \"w\") as file:\n",
    "    file.write(f\"Network Type: {network_type}\")"
   ]
  },
  {
   "cell_type": "code",
   "execution_count": null,
   "metadata": {},
   "outputs": [],
   "source": [
    "print(f\"Network type saved to {output_file}.\")  # Print a message indicating that the network type has been saved to a file"
   ]
  }
 ],
 "metadata": {
  "kernelspec": {
   "display_name": "Python 3",
   "language": "python",
   "name": "python3"
  },
  "language_info": {
   "codemirror_mode": {
    "name": "ipython",
    "version": 3
   },
   "file_extension": ".py",
   "mimetype": "text/x-python",
   "name": "python",
   "nbconvert_exporter": "python",
   "pygments_lexer": "ipython3",
   "version": "3.11.1"
  },
  "orig_nbformat": 4
 },
 "nbformat": 4,
 "nbformat_minor": 2
}
