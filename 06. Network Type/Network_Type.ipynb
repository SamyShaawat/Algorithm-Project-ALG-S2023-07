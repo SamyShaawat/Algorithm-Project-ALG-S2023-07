{
 "cells": [
  {
   "cell_type": "code",
   "execution_count": 8,
   "metadata": {},
   "outputs": [],
   "source": [
    "# Read average degree and average clustering coefficient from Network_Properties txt file : taken from Degree of the graph and Clustering Coefficients txt files\n",
    "with open(\"Network_Properties.txt\", \"r\") as file:\n",
    "    lines = file.readlines()\n",
    "    average_degree = float(lines[0].split(\":\")[1].strip())\n",
    "    average_clustering_coefficient = float(lines[1].split(\":\")[1].strip())"
   ]
  },
  {
   "cell_type": "code",
   "execution_count": 9,
   "metadata": {},
   "outputs": [],
   "source": [
    "# # Determine the network type based on the properties\n",
    "# network_type = None\n",
    "# if average_degree < 2:\n",
    "#     network_type = \"Isolated Nodes\"\n",
    "# elif average_clustering_coefficient < 0.1:\n",
    "#     network_type = \"Random Network\"\n",
    "# elif average_degree > 10 and average_clustering_coefficient > 0.5:\n",
    "#     network_type = \"Small-World Network\"\n",
    "# else:\n",
    "#     network_type = \"Complex Network\""
   ]
  },
  {
   "cell_type": "code",
   "execution_count": 10,
   "metadata": {},
   "outputs": [],
   "source": [
    "if average_degree > 10 and average_clustering_coefficient > 0.1:\n",
    "    network_type = 'Small World Network'\n",
    "elif average_degree > 10 and average_clustering_coefficient <= 0.1:\n",
    "    network_type = 'Random Network'\n",
    "elif average_degree <= 10 and average_clustering_coefficient > 0.1:\n",
    "    network_type = 'Clustered Network'\n",
    "else:\n",
    "    network_type = 'Sparse Network'"
   ]
  },
  {
   "attachments": {},
   "cell_type": "markdown",
   "metadata": {},
   "source": [
    "1. Small World Network: High clustering and high connectivity. Tightly-knit clusters of nodes separated by relatively few long-range connections. Found in social networks.\n",
    "\n",
    "2. Random Network: High connectivity but low clustering. Nodes are connected randomly without any preference for forming clusters or communities. Used as null models in network analysis.\n",
    "\n",
    "3. Clustered Network: Low connectivity but high clustering. Nodes form tight-knit groups or communities that are relatively isolated from each other. Found in biological or ecological systems.\n",
    "\n",
    "4. Sparse Network: Low connectivity and low clustering. Nodes are weakly connected and there are few or no tight-knit clusters or communities. Found in systems where interactions between nodes are rare or unimportant."
   ]
  },
  {
   "cell_type": "code",
   "execution_count": 11,
   "metadata": {},
   "outputs": [],
   "source": [
    "# Save the network type to a file\n",
    "output_file = \"Network_Typeff_results.txt\"\n",
    "with open(output_file, \"w\") as file:\n",
    "    file.write(f\"Network Type: {network_type}\")"
   ]
  },
  {
   "cell_type": "code",
   "execution_count": 12,
   "metadata": {},
   "outputs": [
    {
     "name": "stdout",
     "output_type": "stream",
     "text": [
      "Network type saved to Network_Typeff_results.txt.\n"
     ]
    }
   ],
   "source": [
    "print(f\"Network type saved to {output_file}.\")  # Print a message indicating that the network type has been saved to a file"
   ]
  },
  {
   "attachments": {},
   "cell_type": "markdown",
   "metadata": {},
   "source": [
    "#### Network Type\n",
    "\n",
    "This Python code determines the type of network based on the average degree and average clustering coefficient of the graph. It performs the following steps:\n",
    "\n",
    "1. Read the average degree and average clustering coefficient from a text file called \"Network_Properties.txt\" this file content come from Degree of the graph and Clustering Coefficients txt files.\n",
    "2. Determine the type of network based on the properties.\n",
    "3. Write the network type to a text file called \"Network_Type_results.txt\".\n",
    "\n",
    "- The average degree of a graph is the sum of the degrees of all nodes divided by the total number of nodes in the graph. The average clustering coefficient of a node in a graph is the fraction of triangles around that node that are closed. These properties can be used to determine the type of network.\n",
    "\n",
    "- The code reads the average degree and average clustering coefficient from a text file called \"Network_Properties.txt\". The file contains two lines: one for the average degree and one for the average clustering coefficient. The code reads these lines, extracts the values, and converts them to float values.\n",
    "\n",
    "- Based on the average degree and average clustering coefficient, the code determines the type of network. If the average degree is less than 2, the network is an isolated node. If the average clustering coefficient is less than 0.1, the network is a random network. If the average degree is greater than 10 and the average clustering coefficient is greater than 0.5, the network is a small-world network.Otherwise, the network is a complex network.\n",
    "\n",
    "- After determining the network type, the code writes it to a text file called \"Network_Type_results.txt\". This file will contain one line with the network type.\n",
    "\n",
    "- Writing the results to a file is important for documenting the analysis and for later reference. Finally, the code prints a message to the console indicating that the network type has been saved to the text file."
   ]
  }
 ],
 "metadata": {
  "kernelspec": {
   "display_name": "Python 3",
   "language": "python",
   "name": "python3"
  },
  "language_info": {
   "codemirror_mode": {
    "name": "ipython",
    "version": 3
   },
   "file_extension": ".py",
   "mimetype": "text/x-python",
   "name": "python",
   "nbconvert_exporter": "python",
   "pygments_lexer": "ipython3",
   "version": "3.11.3"
  },
  "orig_nbformat": 4
 },
 "nbformat": 4,
 "nbformat_minor": 2
}
