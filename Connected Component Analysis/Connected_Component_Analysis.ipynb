{
 "cells": [
  {
   "cell_type": "code",
   "execution_count": 1,
   "metadata": {},
   "outputs": [
    {
     "name": "stdout",
     "output_type": "stream",
     "text": [
      "Connected components analysis results saved to connected_components.txt.\n"
     ]
    }
   ],
   "source": [
    "import networkx as nx\n",
    "\n",
    "# Load the graph from the GraphML file\n",
    "graph = nx.read_graphml(\"Network.graphml\")\n",
    "\n",
    "# Perform connected components analysis\n",
    "components = list(nx.connected_components(graph))\n",
    "\n",
    "# Save the output to a text file\n",
    "output_file = \"Connected_Component_Analysis_results.txt\"\n",
    "with open(output_file, \"w\") as file:\n",
    "    file.write(f\"Number of connected components: {len(components)}\\n\\n\")\n",
    "    for i, comp in enumerate(components, start=1):\n",
    "        file.write(f\"Component {i}: {comp}\\n\")\n",
    "\n",
    "print(f\"Connected components analysis results saved to {output_file}.\")\n"
   ]
  }
 ],
 "metadata": {
  "kernelspec": {
   "display_name": "base",
   "language": "python",
   "name": "python3"
  },
  "language_info": {
   "codemirror_mode": {
    "name": "ipython",
    "version": 3
   },
   "file_extension": ".py",
   "mimetype": "text/x-python",
   "name": "python",
   "nbconvert_exporter": "python",
   "pygments_lexer": "ipython3",
   "version": "3.11.1"
  },
  "orig_nbformat": 4
 },
 "nbformat": 4,
 "nbformat_minor": 2
}
