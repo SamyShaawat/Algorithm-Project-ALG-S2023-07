{
 "cells": [
  {
   "cell_type": "code",
   "execution_count": 1,
   "metadata": {},
   "outputs": [],
   "source": [
    "import networkx as nx  # Import the networkx library\n",
    "import matplotlib.pyplot as plt  # Import the matplotlib library for plotting"
   ]
  },
  {
   "cell_type": "code",
   "execution_count": null,
   "metadata": {},
   "outputs": [],
   "source": [
    "# Load the graph from the GraphML file\n",
    "graph = nx.read_graphml(\"Network.graphml\")"
   ]
  },
  {
   "cell_type": "code",
   "execution_count": null,
   "metadata": {},
   "outputs": [],
   "source": [
    "# Calculate the clustering coefficients for each node\n",
    "clustering_coefficients = nx.clustering(graph)"
   ]
  },
  {
   "cell_type": "code",
   "execution_count": null,
   "metadata": {},
   "outputs": [],
   "source": [
    "# Calculate the average clustering coefficient\n",
    "avg_clustering_coefficient = nx.average_clustering(graph)"
   ]
  },
  {
   "cell_type": "code",
   "execution_count": null,
   "metadata": {},
   "outputs": [],
   "source": [
    "# Save clustering coefficients and average clustering coefficient to a file\n",
    "output_file = \"Clustering_Coefficients_results.txt\"  # Specify the output file name\n",
    "with open(output_file, \"w\") as file:  # Open the file in write mode\n",
    "    for node, coefficient in clustering_coefficients.items():  # Iterate over each node and its clustering coefficient\n",
    "        file.write(f\"Node {node}: Clustering Coefficient = {coefficient}\\n\")  # Write the node and its clustering coefficient to the file\n",
    "    file.write(f\"Average Clustering Coefficient: {avg_clustering_coefficient}\\n\")  # Write the average clustering coefficient to the file"
   ]
  },
  {
   "cell_type": "code",
   "execution_count": null,
   "metadata": {},
   "outputs": [],
   "source": [
    "print(f\"Clustering analysis results saved to {output_file}.\")  # Print a message indicating the completion of the task"
   ]
  },
  {
   "cell_type": "code",
   "execution_count": null,
   "metadata": {},
   "outputs": [],
   "source": [
    "# Add these lines to plot the histogram of the clustering coefficients\n",
    "plt.figure()  # Create a new figure object\n",
    "plt.hist(list(clustering_coefficients.values()), bins=10)  # Plot a histogram of the clustering coefficients with 10 bins\n",
    "plt.xlabel(\"Clustering Coefficient\")  # Add a label for the x-axis\n",
    "plt.ylabel(\"Frequency\")  # Add a label for the y-axis\n",
    "plt.title(\"Histogram of Clustering Coefficients\")  # Add a title for the plot\n",
    "plt.savefig(\"Clustering_Coefficients_Histogram.png\")  # Save the plot as an image file\n",
    "plt.show()  # Show the plot on the screen\n"
   ]
  },
  {
   "attachments": {},
   "cell_type": "markdown",
   "metadata": {},
   "source": [
    "#### Clustering Coefficients\n",
    "\n",
    "The provided code performs the following tasks:\n",
    "\n",
    "1. Imports the `networkx` library, which is commonly used for graph analysis and manipulation.\n",
    "\n",
    "2. Loads a graph from a GraphML file called \"Network.graphml\" using the `nx.read_graphml()` function and assigns it to the `graph` variable.\n",
    "\n",
    "3. Calculates the clustering coefficient for each node in the graph using the `nx.clustering()` function and assigns the results to the `clustering_coefficients` variable.\n",
    "\n",
    "4. Calculates the average clustering coefficient of the graph using the `nx.average_clustering()` function and assigns it to the `avg_clustering_coefficient` variable.\n",
    "\n",
    "5. Specifies the name of the output file as \"Clustering_Coefficients_results.txt\" and assigns it to the `output_file` variable.\n",
    "\n",
    "6. Opens the output file in write mode using the `open()` function and the `with` statement. This file will store the clustering coefficients and the average clustering coefficient.\n",
    "\n",
    "7. Iterates over each node in the `clustering_coefficients` dictionary using a `for` loop, where each node and its corresponding clustering coefficient are extracted.\n",
    "\n",
    "8. Writes the node label, clustering coefficient, and average clustering coefficient to the output file. Each measure is written on a separate line.\n",
    "\n",
    "9. After the loop ends, closes the file.\n",
    "\n",
    "10. Prints a completion message indicating that the clustering analysis results have been saved to the \"Clustering_Coefficients_results.txt\" file.\n",
    "\n",
    "- The code calculates the clustering coefficients for each node in a graph and the average clustering coefficient of the graph itself. It then saves these results to a text file for further analysis and interpretation.\n",
    "\n",
    "- Note: This code output used to determine Network Type \n"
   ]
  }
 ],
 "metadata": {
  "kernelspec": {
   "display_name": "Python 3",
   "language": "python",
   "name": "python3"
  },
  "language_info": {
   "codemirror_mode": {
    "name": "ipython",
    "version": 3
   },
   "file_extension": ".py",
   "mimetype": "text/x-python",
   "name": "python",
   "nbconvert_exporter": "python",
   "pygments_lexer": "ipython3",
   "version": "3.11.3"
  },
  "orig_nbformat": 4
 },
 "nbformat": 4,
 "nbformat_minor": 2
}
