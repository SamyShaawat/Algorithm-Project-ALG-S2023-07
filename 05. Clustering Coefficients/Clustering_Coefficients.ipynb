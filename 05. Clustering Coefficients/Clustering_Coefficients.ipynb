{
 "cells": [
  {
   "cell_type": "code",
   "execution_count": 1,
   "metadata": {},
   "outputs": [],
   "source": [
    "import networkx as nx  # Import the networkx library"
   ]
  },
  {
   "cell_type": "code",
   "execution_count": null,
   "metadata": {},
   "outputs": [],
   "source": [
    "# Load the graph from the GraphML file\n",
    "graph = nx.read_graphml(\"Network.graphml\")"
   ]
  },
  {
   "cell_type": "code",
   "execution_count": null,
   "metadata": {},
   "outputs": [],
   "source": [
    "# Calculate the clustering coefficients for each node\n",
    "clustering_coefficients = nx.clustering(graph)"
   ]
  },
  {
   "cell_type": "code",
   "execution_count": null,
   "metadata": {},
   "outputs": [],
   "source": [
    "# Calculate the average clustering coefficient\n",
    "avg_clustering_coefficient = nx.average_clustering(graph)"
   ]
  },
  {
   "cell_type": "code",
   "execution_count": null,
   "metadata": {},
   "outputs": [],
   "source": [
    "# Save clustering coefficients and average clustering coefficient to a file\n",
    "output_file = \"Clustering_Coefficients_results.txt\"  # Specify the output file name\n",
    "with open(output_file, \"w\") as file:  # Open the file in write mode\n",
    "    for node, coefficient in clustering_coefficients.items():  # Iterate over each node and its clustering coefficient\n",
    "        file.write(f\"Node {node}: Clustering Coefficient = {coefficient}\\n\")  # Write the node and its clustering coefficient to the file\n",
    "    file.write(f\"Average Clustering Coefficient: {avg_clustering_coefficient}\\n\")  # Write the average clustering coefficient to the file"
   ]
  },
  {
   "cell_type": "code",
   "execution_count": null,
   "metadata": {},
   "outputs": [],
   "source": [
    "print(f\"Clustering analysis results saved to {output_file}.\")  # Print a message indicating the completion of the task"
   ]
  }
 ],
 "metadata": {
  "kernelspec": {
   "display_name": "Python 3",
   "language": "python",
   "name": "python3"
  },
  "language_info": {
   "codemirror_mode": {
    "name": "ipython",
    "version": 3
   },
   "file_extension": ".py",
   "mimetype": "text/x-python",
   "name": "python",
   "nbconvert_exporter": "python",
   "pygments_lexer": "ipython3",
   "version": "3.11.3"
  },
  "orig_nbformat": 4
 },
 "nbformat": 4,
 "nbformat_minor": 2
}
