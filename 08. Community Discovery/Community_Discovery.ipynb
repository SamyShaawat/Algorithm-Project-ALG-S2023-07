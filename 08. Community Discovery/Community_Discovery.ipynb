{
  "cells": [
    {
      "cell_type": "code",
      "execution_count": null,
      "metadata": {},
      "outputs": [],
      "source": [
        "import networkx as nx  # Import the networkx library\n",
        "import community  # Import the community module for community detection\n",
        "import matplotlib.pyplot as plt  # Import the matplotlib.pyplot module for visualization"
      ]
    },
    {
      "cell_type": "code",
      "execution_count": null,
      "metadata": {},
      "outputs": [],
      "source": [
        "# Load the graph from the GraphML file\n",
        "graph = nx.read_graphml('Network.graphml')"
      ]
    },
    {
      "cell_type": "code",
      "execution_count": null,
      "metadata": {},
      "outputs": [],
      "source": [
        "# Run the Louvain algorithm to detect communities\n",
        "partition = community.best_partition(graph)"
      ]
    },
    {
      "cell_type": "code",
      "execution_count": null,
      "metadata": {},
      "outputs": [],
      "source": [
        "# Get the number of communities\n",
        "num_communities = max(partition.values()) + 1"
      ]
    },
    {
      "cell_type": "code",
      "execution_count": null,
      "metadata": {},
      "outputs": [],
      "source": [
        "# Print the number of communities\n",
        "print(f\"Number of communities: {num_communities}\")"
      ]
    },
    {
      "cell_type": "code",
      "execution_count": null,
      "metadata": {},
      "outputs": [],
      "source": [
        "# Save the community assignment to a text file\n",
        "with open('Community_Discovery_result.txt', 'w') as f:  # Open the file in write mode\n",
        "    for node, community_id in partition.items():  # Iterate over each node and its community assignment\n",
        "        f.write(f\"Node {node}: Community {community_id}\\n\")  # Write the node and its community assignment to the file"
      ]
    },
    {
      "cell_type": "code",
      "execution_count": null,
      "metadata": {},
      "outputs": [],
      "source": [
        "# Draw the graph with nodes colored according to their community\n",
        "pos = nx.spring_layout(graph)  # Compute the layout for visualization\n",
        "cmap = plt.cm.get_cmap('viridis', num_communities)  # Define the colormap for communities"
      ]
    },
    {
      "cell_type": "code",
      "execution_count": null,
      "metadata": {},
      "outputs": [],
      "source": [
        "# Draw nodes with colors corresponding to their community assignments\n",
        "nx.draw_networkx_nodes(graph, pos, node_color=list(partition.values()), cmap=cmap)"
      ]
    },
    {
      "cell_type": "code",
      "execution_count": null,
      "metadata": {},
      "outputs": [],
      "source": [
        "# Draw edges\n",
        "nx.draw_networkx_edges(graph, pos)"
      ]
    },
    {
      "cell_type": "code",
      "execution_count": null,
      "metadata": {},
      "outputs": [],
      "source": [
        "# Show the plot\n",
        "plt.show()"
      ]
    },
    {
      "cell_type": "code",
      "execution_count": null,
      "metadata": {},
      "outputs": [],
      "source": [
        "import networkx as nx\n",
        "import community\n",
        "import matplotlib.pyplot as plt\n",
        "\n",
        "# Load the graph from the GraphML file\n",
        "graph = nx.read_graphml('Network.graphml')\n",
        "\n",
        "# Run the Louvain algorithm to detect communities\n",
        "partition = community.best_partition(graph)\n",
        "\n",
        "# Get the number of communities\n",
        "num_communities = max(partition.values()) + 1\n",
        "\n",
        "# Print the number of communities\n",
        "print(f\"Number of communities: {num_communities}\")"
      ]
    },
    {
      "cell_type": "code",
      "execution_count": null,
      "metadata": {},
      "outputs": [],
      "source": [
        "import networkx as nx  # Import the networkx library\n",
        "import community  # Import the community module for community detection\n",
        "import matplotlib.pyplot as plt  # Import the matplotlib.pyplot module for visualization\n",
        "import collections  # Import the collections module for counting\n",
        "\n",
        "\n",
        "# Count the frequency of each community id\n",
        "counter = collections.Counter(partition.values())\n",
        "\n",
        "# Convert the counter object into a list of lists\n",
        "table_data = list(counter.items())\n",
        "\n",
        "# Define figure and axes object\n",
        "fig, ax = plt.subplots()\n",
        "\n",
        "# Create table from table data\n",
        "table = ax.table(cellText=table_data, colLabels=[\"Static Community\", \"Number of elements\"], loc=\"center\",cellLoc='center')\n",
        "\n",
        "# Modify table appearance\n",
        "table.set_fontsize(12)\n",
        "table.scale(1,2)\n",
        "ax.axis(\"off\")\n",
        "\n",
        "# Show plot with table\n",
        "plt.show()\n"
      ]
    },
    {
      "attachments": {},
      "cell_type": "markdown",
      "metadata": {},
      "source": [
        "#### Community Discovery\n",
        "\n",
        "The provided code performs the following tasks:\n",
        "\n",
        "1. The code imports the necessary libraries: networkx for graph operations, community for community detection, and matplotlib.pyplot for visualization.\n",
        "\n",
        "2. The graph is loaded from a GraphML file using nx.read_graphml() and assigned to the graph variable.\n",
        "\n",
        "3. The Louvain algorithm is applied to detect communities in the graph using community.best_partition(graph). The result is stored in the partition dictionary, where each node is mapped to its corresponding community ID.\n",
        "\n",
        "4. The number of communities is calculated by finding the maximum community ID in the partition dictionary and adding 1.\n",
        "\n",
        "5. The number of communities is printed to the console using print(f\"Number of communities: {num_communities}\").\n",
        "\n",
        "6. The community assignment is saved to a text file named Community_Discovery_result.txt. The file is opened in write mode using open('Community_Discovery_result.txt', 'w') and assigned to the file handle f. The partition dictionary is iterated using for node, community_id in partition.items(), and each node's ID and its corresponding community ID are written to the file using f.write(f\"Node {node}: Community {community_id}\\n\").\n",
        "\n",
        "7. The layout for visualization is computed using nx.spring_layout(graph), and assigned to the pos variable.\n",
        "\n",
        "8. The colormap for communities is defined using plt.cm.get_cmap('viridis', num_communities), and assigned to the cmap variable.\n",
        "\n",
        "9. The nodes of the graph are drawn with colors corresponding to their community assignments using nx.draw_networkx_nodes(graph, pos, node_color=list(partition.values()), cmap=cmap).\n",
        "\n",
        "10. The edges of the graph are drawn using nx.draw_networkx_edges(graph, pos).\n",
        "\n",
        "11. The plot is displayed using plt.show()."
      ]
    }
  ],
  "metadata": {
    "colab": {
      "provenance": []
    },
    "kernelspec": {
      "display_name": "Python 3",
      "language": "python",
      "name": "python3"
    },
    "language_info": {
      "codemirror_mode": {
        "name": "ipython",
        "version": 3
      },
      "file_extension": ".py",
      "mimetype": "text/x-python",
      "name": "python",
      "nbconvert_exporter": "python",
      "pygments_lexer": "ipython3",
      "version": "3.11.3"
    },
    "orig_nbformat": 4
  },
  "nbformat": 4,
  "nbformat_minor": 0
}
