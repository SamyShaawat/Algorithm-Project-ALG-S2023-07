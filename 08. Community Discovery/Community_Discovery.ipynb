{
  "cells": [
    {
      "cell_type": "code",
      "execution_count": null,
      "metadata": {},
      "outputs": [],
      "source": [
        "import networkx as nx  # Import the networkx library\n",
        "import community  # Import the community module for community detection\n",
        "import matplotlib.pyplot as plt  # Import the matplotlib.pyplot module for visualization"
      ]
    },
    {
      "cell_type": "code",
      "execution_count": null,
      "metadata": {},
      "outputs": [],
      "source": [
        "# Load the graph from the GraphML file\n",
        "graph = nx.read_graphml('Network.graphml')"
      ]
    },
    {
      "cell_type": "code",
      "execution_count": null,
      "metadata": {},
      "outputs": [],
      "source": [
        "# Run the Louvain algorithm to detect communities\n",
        "partition = community.best_partition(graph)"
      ]
    },
    {
      "cell_type": "code",
      "execution_count": null,
      "metadata": {},
      "outputs": [],
      "source": [
        "# Get the number of communities\n",
        "num_communities = max(partition.values()) + 1"
      ]
    },
    {
      "cell_type": "code",
      "execution_count": null,
      "metadata": {},
      "outputs": [],
      "source": [
        "# Print the number of communities\n",
        "print(f\"Number of communities: {num_communities}\")"
      ]
    },
    {
      "cell_type": "code",
      "execution_count": null,
      "metadata": {},
      "outputs": [],
      "source": [
        "# Save the community assignment to a text file\n",
        "with open('Community_Discovery_result.txt', 'w') as f:  # Open the file in write mode\n",
        "    for node, community_id in partition.items():  # Iterate over each node and its community assignment\n",
        "        f.write(f\"Node {node}: Community {community_id}\\n\")  # Write the node and its community assignment to the file"
      ]
    },
    {
      "cell_type": "code",
      "execution_count": null,
      "metadata": {},
      "outputs": [],
      "source": [
        "# Draw the graph with nodes colored according to their community\n",
        "pos = nx.spring_layout(graph)  # Compute the layout for visualization\n",
        "cmap = plt.cm.get_cmap('viridis', num_communities)  # Define the colormap for communities"
      ]
    },
    {
      "cell_type": "code",
      "execution_count": null,
      "metadata": {},
      "outputs": [],
      "source": [
        "# Draw nodes with colors corresponding to their community assignments\n",
        "nx.draw_networkx_nodes(graph, pos, node_color=list(partition.values()), cmap=cmap)"
      ]
    },
    {
      "cell_type": "code",
      "execution_count": null,
      "metadata": {},
      "outputs": [],
      "source": [
        "# Draw edges\n",
        "nx.draw_networkx_edges(graph, pos)"
      ]
    },
    {
      "cell_type": "code",
      "execution_count": null,
      "metadata": {},
      "outputs": [],
      "source": [
        "# Show the plot\n",
        "plt.show()"
      ]
    }
  ],
  "metadata": {
    "colab": {
      "provenance": []
    },
    "kernelspec": {
      "display_name": "Python 3",
      "language": "python",
      "name": "python3"
    },
    "language_info": {
      "codemirror_mode": {
        "name": "ipython",
        "version": 3
      },
      "file_extension": ".py",
      "mimetype": "text/x-python",
      "name": "python",
      "nbconvert_exporter": "python",
      "pygments_lexer": "ipython3",
      "version": "3.11.3"
    },
    "orig_nbformat": 4
  },
  "nbformat": 4,
  "nbformat_minor": 0
}
