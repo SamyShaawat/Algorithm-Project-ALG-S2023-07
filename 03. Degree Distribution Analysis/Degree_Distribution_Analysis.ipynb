{
 "cells": [
  {
   "cell_type": "code",
   "execution_count": null,
   "metadata": {},
   "outputs": [],
   "source": [
    "import networkx as nx  # Import NetworkX library for working with graphs\n",
    "import matplotlib.pyplot as plt  # Import Matplotlib library for creating plots\n",
    "import numpy as np  # Import NumPy library for working with arrays"
   ]
  },
  {
   "cell_type": "code",
   "execution_count": null,
   "metadata": {},
   "outputs": [],
   "source": [
    "# Load the graph from a GraphML file\n",
    "graph = nx.read_graphml('Network.graphml')"
   ]
  },
  {
   "cell_type": "code",
   "execution_count": null,
   "metadata": {},
   "outputs": [],
   "source": [
    "# Calculate the degree of each node in the graph\n",
    "degrees = dict(graph.degree())"
   ]
  },
  {
   "cell_type": "code",
   "execution_count": null,
   "metadata": {},
   "outputs": [],
   "source": [
    "# Open a file in write mode to store the degree of each node\n",
    "with open('Degrees_for_each_node.txt', 'w') as file:\n",
    "    for user, degree in degrees.items():\n",
    "        output = f'Degree of {user}: {degree}\\n'  # Create a string that shows the degree of each node\n",
    "        file.write(output)    # Write the string to the file"
   ]
  },
  {
   "cell_type": "code",
   "execution_count": null,
   "metadata": {},
   "outputs": [],
   "source": [
    "# Calculate the degree distribution\n",
    "degree_sequence = sorted([d for n, d in graph.degree()], reverse=True)  # Calculate the degree sequence of the graph\n",
    "degree_counts = np.bincount(degree_sequence)    # Count the number of nodes with each degree\n",
    "total_nodes = graph.number_of_nodes()  # Calculate the total number of nodes in the graph"
   ]
  },
  {
   "cell_type": "code",
   "execution_count": null,
   "metadata": {},
   "outputs": [],
   "source": [
    "# Open a file in write mode to store the degree distribution\n",
    "with open('Degree_Distribution_result.txt', 'w') as file:\n",
    "    file.write('Degree distribution:\\n') # Add a header to the file\n",
    "    for degree(Continued), count in enumerate(degree_counts): # Loop through each degree and its count\n",
    "        if count > 0:     # Only write to the file if the count is greater than 0\n",
    "            fraction = count / total_nodes    # Calculate the fraction of nodes with this degree\n",
    "            output = f'Degree {degree}: Fraction of nodes = {fraction:.6f}\\n'  # Create a string that shows the degree and its fraction\n",
    "            file.write(output) # Write the string to the file"
   ]
  },
  {
   "cell_type": "code",
   "execution_count": null,
   "metadata": {},
   "outputs": [],
   "source": [
    "# Plot a degree distribution graph using a histogram\n",
    "degree_sequence = sorted([d for n, d in graph.degree()], reverse=True)  # Calculate the degree sequence of the graph\n",
    "hist, bins = np.histogram(degree_sequence, bins=range(min(degree_sequence), max(degree_sequence) + 2, 1))  # Create a histogram of the degree sequence\n",
    "hist = hist.astype(float) / hist.sum()    # Normalize the histogram to be a fraction of the total number of nodes"
   ]
  },
  {
   "cell_type": "code",
   "execution_count": null,
   "metadata": {},
   "outputs": [],
   "source": [
    "plt.figure(figsize=(10, 6))  # Create a new figure with a size of 10 by 6 inches\n",
    "plt.bar(bins[:-1], hist, width=4)  # Create a bar plot of the degree distribution\n",
    "plt.xlim(min(bins), 2000) # Set the x-axis limits\n",
    "plt.title(\"Degree distribution\", fontsize=16)  # Set the title of the plotto \"Degree distribution\" with a font size of 16\n",
    "plt.ylabel(\"Fraction of nodes\", fontsize=12)  # Set the label of the y-axis to \"Fraction of nodes\" with a font size of 12\n",
    "plt.xlabel(\"Degree\", fontsize=12)  # Set the label of the x-axis to \"Degree\" with a font size of 12\n",
    "plt.tick_params(axis='both', labelsize=10)       # Increase the font size of the tick labels on both the x and y axes to 10\n",
    "plt.savefig(\"degree_distribution.png\", dpi=300)  # Save the plot as a PNG image file called \"degree_distribution.png\" with a resolution of 300 dpi\n",
    "plt.show()  # Show the plot in the output cell"
   ]
  },
  {
   "attachments": {},
   "cell_type": "markdown",
   "metadata": {},
   "source": [
    "#### Degree Distribution Analysis\n",
    "\n",
    "This Python code analyzes the degree distribution of a graph using the NetworkX and Matplotlib libraries. It performs the following steps:\n",
    "\n",
    "1. Import the necessary libraries - NetworkX, Matplotlib, and NumPy.\n",
    "2. Load the graph from a GraphML file.\n",
    "3. Calculate the degree of each node in the graph.\n",
    "4. Write the degree of each node to a text file.\n",
    "5. Calculate the degree distribution of the graph.\n",
    "6. Write the degree distribution to a text file.\n",
    "7. Create a histogram of the degree distribution.\n",
    "8. Create a bar plot of the degree distribution using Matplotlib.\n",
    "9. Set the x-axis limits, title, x-axis label, and y-axis label of the bar plot.\n",
    "10. Save the plot as a PNG image file.\n",
    "11. Display the plot in the output cell.\n",
    "\n",
    "- The degree of a node in a graph is the number of edges connected to that node.   \n",
    "- The degree distribution of a graph is a probability distribution that describes the number of nodes with a given degree.   \n",
    "- A histogram is a graphical representation of the degree distribution, where the x-axis represents the degree and the y-axis represents the number of nodes with that degree.   \n",
    "- A bar plot is a more common way to visualize the degree distribution, where the y-axis represents the fraction of nodes with a given degree instead of the number of nodes."
   ]
  }
 ],
 "metadata": {
  "kernelspec": {
   "display_name": "Python 3",
   "language": "python",
   "name": "python3"
  },
  "language_info": {
   "codemirror_mode": {
    "name": "ipython",
    "version": 3
   },
   "file_extension": ".py",
   "mimetype": "text/x-python",
   "name": "python",
   "nbconvert_exporter": "python",
   "pygments_lexer": "ipython3",
   "version": "3.11.3"
  },
  "orig_nbformat": 4
 },
 "nbformat": 4,
 "nbformat_minor": 2
}
