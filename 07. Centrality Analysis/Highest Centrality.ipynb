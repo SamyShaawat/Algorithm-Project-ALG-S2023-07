{
 "cells": [
  {
   "cell_type": "code",
   "execution_count": 1,
   "metadata": {},
   "outputs": [],
   "source": [
    "\n",
    "# Import pandas to store and manipulate the data\n",
    "import pandas as pd\n",
    "\n",
    "# Create an empty dataframe with the columns we need\n",
    "df = pd.DataFrame(columns=[\"Node\", \"Degree Centrality\", \"Betweenness Centrality\", \"Closeness Centrality\", \"Eigenvector Centrality\"])\n"
   ]
  },
  {
   "cell_type": "code",
   "execution_count": 7,
   "metadata": {},
   "outputs": [],
   "source": [
    "with open(\"Centrality_Analysis_results.txt\", \"r\") as f:\n",
    "    # Initialize an empty dictionary to store the node data\n",
    "    node_data = {}\n",
    "    # Loop through each line in the file\n",
    "    for line in f:\n",
    "        # Strip any whitespace from the line\n",
    "        line = line.strip()\n",
    "        # If the line is not empty and not a dash\n",
    "        if line and line != \"------------------------\":\n",
    "            # Try to split the line by \":\" and get the key and value\n",
    "            try:\n",
    "                key, value = line.split(\":\")\n",
    "                # Remove any whitespace from the key and value\n",
    "                key = key.strip()\n",
    "                value = value.strip()\n",
    "                # Store the key and value in the node data dictionary\n",
    "                node_data[key] = value\n",
    "            # If there is no colon (:) in the line, catch the ValueError and skip the line\n",
    "            except ValueError:\n",
    "                print(\"Invalid line:\", line)\n",
    "                continue\n",
    "        # If the line is empty or a dash, it means we have reached the end of a node section\n",
    "        else:\n",
    "            # Create a temporary dataframe with one row from the node data dictionary\n",
    "            temp_df = pd.DataFrame([node_data])\n",
    "            # Concatenate the temporary dataframe with the main dataframe\n",
    "            df = pd.concat([df, temp_df], ignore_index=True)\n",
    "            # Reset the node data dictionary for the next node section\n",
    "            node_data = {}\n",
    "    # After looping through all the lines, create a temporary dataframe with one row from the last node data dictionary\n",
    "    temp_df = pd.DataFrame([node_data])\n",
    "    # Concatenate the temporary dataframe with the main dataframe\n",
    "    df = pd.concat([df, temp_df], ignore_index=True)"
   ]
  },
  {
   "cell_type": "code",
   "execution_count": 11,
   "metadata": {},
   "outputs": [
    {
     "name": "stdout",
     "output_type": "stream",
     "text": [
      "Highest node for Degree Centrality: Node                           wil\n",
      "Degree Centrality         0.561842\n",
      "Betweenness Centrality    0.269488\n",
      "Closeness Centrality      0.692209\n",
      "Eigenvector Centrality    0.036501\n",
      "Name: 19193, dtype: object\n",
      "Highest node for Betweenness Centrality: Node                           wil\n",
      "Degree Centrality         0.561842\n",
      "Betweenness Centrality    0.269488\n",
      "Closeness Centrality      0.692209\n",
      "Eigenvector Centrality    0.036501\n",
      "Name: 19193, dtype: object\n",
      "Highest node for Closeness Centrality: Node                           wil\n",
      "Degree Centrality         0.561842\n",
      "Betweenness Centrality    0.269488\n",
      "Closeness Centrality      0.692209\n",
      "Eigenvector Centrality    0.036501\n",
      "Name: 19193, dtype: object\n",
      "Highest node for Eigenvector Centrality: Node                           wil\n",
      "Degree Centrality         0.561842\n",
      "Betweenness Centrality    0.269488\n",
      "Closeness Centrality      0.692209\n",
      "Eigenvector Centrality    0.036501\n",
      "Name: 19193, dtype: object\n"
     ]
    }
   ],
   "source": [
    "# Convert the centrality values from strings to floats\n",
    "df[[\"Degree Centrality\", \"Betweenness Centrality\", \"Closeness Centrality\", \"Eigenvector Centrality\"]] = df[[\"Degree Centrality\", \"Betweenness Centrality\", \"Closeness Centrality\", \"Eigenvector Centrality\"]].astype(float)\n",
    "\n",
    "# Find the highest nodes for each centrality measure and print them\n",
    "print(\"Highest node for Degree Centrality:\", df.iloc[df[\"Degree Centrality\"].idxmax()])\n",
    "print(\"Highest node for Betweenness Centrality:\", df.iloc[df[\"Betweenness Centrality\"].idxmax()])\n",
    "print(\"Highest node for Closeness Centrality:\", df.iloc[df[\"Closeness Centrality\"].idxmax()])\n",
    "print(\"Highest node for Eigenvector Centrality:\", df.iloc[df[\"Eigenvector Centrality\"].idxmax()])\n"
   ]
  },
  {
   "cell_type": "code",
   "execution_count": 12,
   "metadata": {},
   "outputs": [
    {
     "name": "stdout",
     "output_type": "stream",
     "text": [
      "Highest node for Degree Centrality: wil\n",
      "Highest node for Betweenness Centrality: wil\n",
      "Highest node for Closeness Centrality: wil\n",
      "Highest node for Eigenvector Centrality: wil\n"
     ]
    }
   ],
   "source": [
    "# Convert the centrality values from strings to floats\n",
    "df[[\"Degree Centrality\", \"Betweenness Centrality\", \"Closeness Centrality\", \"Eigenvector Centrality\"]] = df[[\"Degree Centrality\", \"Betweenness Centrality\", \"Closeness Centrality\", \"Eigenvector Centrality\"]].astype(float)\n",
    "\n",
    "# Find the highest nodes for each centrality measure and print them\n",
    "print(\"Highest node for Degree Centrality:\", df.loc[df[\"Degree Centrality\"].idxmax(), \"Node\"])\n",
    "print(\"Highest node for Betweenness Centrality:\", df.loc[df[\"Betweenness Centrality\"].idxmax(), \"Node\"])\n",
    "print(\"Highest node for Closeness Centrality:\", df.loc[df[\"Closeness Centrality\"].idxmax(), \"Node\"])\n",
    "print(\"Highest node for Eigenvector Centrality:\", df.loc[df[\"Eigenvector Centrality\"].idxmax(), \"Node\"])"
   ]
  },
  {
   "cell_type": "code",
   "execution_count": null,
   "metadata": {},
   "outputs": [],
   "source": []
  }
 ],
 "metadata": {
  "kernelspec": {
   "display_name": "Python 3",
   "language": "python",
   "name": "python3"
  },
  "language_info": {
   "codemirror_mode": {
    "name": "ipython",
    "version": 3
   },
   "file_extension": ".py",
   "mimetype": "text/x-python",
   "name": "python",
   "nbconvert_exporter": "python",
   "pygments_lexer": "ipython3",
   "version": "3.11.3"
  },
  "orig_nbformat": 4
 },
 "nbformat": 4,
 "nbformat_minor": 2
}
