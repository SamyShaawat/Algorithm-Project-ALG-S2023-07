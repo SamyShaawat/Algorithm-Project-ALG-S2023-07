{
 "cells": [
  {
   "cell_type": "code",
   "execution_count": 1,
   "metadata": {},
   "outputs": [],
   "source": [
    "import networkx as nx  # Import the networkx library"
   ]
  },
  {
   "cell_type": "code",
   "execution_count": null,
   "metadata": {},
   "outputs": [],
   "source": [
    "graph = nx.read_graphml('Network.graphml')  # Load the graph from a GraphML file"
   ]
  },
  {
   "cell_type": "code",
   "execution_count": null,
   "metadata": {},
   "outputs": [],
   "source": [
    "degree_centrality = nx.degree_centrality(graph)  # Calculate degree centrality\n",
    "betweenness_centrality = nx.betweenness_centrality(graph)  # Calculate betweenness centrality\n",
    "closeness_centrality = nx.closeness_centrality(graph)  # Calculate closeness centrality\n",
    "eigenvector_centrality = nx.eigenvector_centrality(graph)  # Calculate eigenvector centrality"
   ]
  },
  {
   "cell_type": "code",
   "execution_count": null,
   "metadata": {},
   "outputs": [],
   "source": [
    "with open('Centrality_Analysis_results.txt', 'w') as file:  # Open a file in write mode for writing centrality measures\n",
    "    for node in graph.nodes:  # Iterate over each node in the graph\n",
    "        file.write(f\"Node: {node}\\n\")  # Write the node label to the file\n",
    "        file.write(f\"Degree Centrality: {degree_centrality[node]}\\n\")  # Write degree centrality to the file\n",
    "        file.write(f\"Betweenness Centrality: {betweenness_centrality[node]}\\n\")  # Write betweenness centrality to the file\n",
    "        file.write(f\"Closeness Centrality: {closeness_centrality[node]}\\n\")  # Write closeness centrality to the file\n",
    "        file.write(f\"Eigenvector Centrality: {eigenvector_centrality[node]}\\n\")  # Write eigenvector centrality to the file\n",
    "        file.write(\"------------------------\\n\")  # Write a separator line to the file"
   ]
  },
  {
   "cell_type": "code",
   "execution_count": null,
   "metadata": {},
   "outputs": [],
   "source": [
    "print(\"Centrality analysis results have been saved to Centrality_Analysis_results.txt file.\")  # Print a completion message"
   ]
  },
  {
   "attachments": {},
   "cell_type": "markdown",
   "metadata": {},
   "source": [
    "#### Centrality Analysis\n",
    "The provided code performs the following tasks:\n",
    "\n",
    "1. Imports the `networkx` library, which is commonly used for graph analysis and manipulation.\n",
    "\n",
    "2. Loads a graph from a GraphML file called \"Network.graphml\" using the `nx.read_graphml()` function and assigns it to the `graph` variable.\n",
    "\n",
    "3. Calculates four types of centrality measures for the nodes in the graph:\n",
    "   - Degree centrality, which quantifies the number of connections each node has.\n",
    "   - Betweenness centrality, which measures how often a node appears on the shortest path between other nodes.\n",
    "   - Closeness centrality, which measures how quickly a node can reach other nodes in the graph.\n",
    "   - Eigenvector centrality, which captures a node's influence based on its connections to other influential nodes.\n",
    "\n",
    "4. Opens a file named \"Centrality_Analysis_results.txt\" in write mode using the `open()` function and the `with` statement. This file will store the centrality measures.\n",
    "\n",
    "5. Iterates over each node in the graph using a `for` loop and the `graph.nodes` attribute.\n",
    "\n",
    "6. Writes the node label, degree centrality, betweenness centrality, closeness centrality, and eigenvector centrality of each node to the file. Each measure is written on a separate line.\n",
    "\n",
    "7. Adds a separator line to visually distinguish the centrality measures of different nodes in the file.\n",
    "\n",
    "8. After the loop ends, closes the file.\n",
    "\n",
    "9. Prints a completion message indicating that the centrality analysis results have been saved to the \"Centrality_Analysis_results.txt\" file.\n",
    "\n",
    "- The code provides a way to calculate various centrality measures for the nodes in a graph and save the results to a text file for further analysis and interpretation.\n"
   ]
  }
 ],
 "metadata": {
  "kernelspec": {
   "display_name": "base",
   "language": "python",
   "name": "python3"
  },
  "language_info": {
   "codemirror_mode": {
    "name": "ipython",
    "version": 3
   },
   "file_extension": ".py",
   "mimetype": "text/x-python",
   "name": "python",
   "nbconvert_exporter": "python",
   "pygments_lexer": "ipython3",
   "version": "3.9.7"
  },
  "orig_nbformat": 4
 },
 "nbformat": 4,
 "nbformat_minor": 2
}
