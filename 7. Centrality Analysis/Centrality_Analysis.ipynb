{
 "cells": [
  {
   "cell_type": "code",
   "execution_count": 1,
   "metadata": {},
   "outputs": [],
   "source": [
    "import networkx as nx  # Import the networkx library"
   ]
  },
  {
   "cell_type": "code",
   "execution_count": null,
   "metadata": {},
   "outputs": [],
   "source": [
    "graph = nx.read_graphml('Network.graphml')  # Load the graph from a GraphML file"
   ]
  },
  {
   "cell_type": "code",
   "execution_count": null,
   "metadata": {},
   "outputs": [],
   "source": [
    "degree_centrality = nx.degree_centrality(graph)  # Calculate degree centrality\n",
    "betweenness_centrality = nx.betweenness_centrality(graph)  # Calculate betweenness centrality\n",
    "closeness_centrality = nx.closeness_centrality(graph)  # Calculate closeness centrality\n",
    "eigenvector_centrality = nx.eigenvector_centrality(graph)  # Calculate eigenvector centrality"
   ]
  },
  {
   "cell_type": "code",
   "execution_count": null,
   "metadata": {},
   "outputs": [],
   "source": [
    "with open('Centrality_Analysis_results.txt', 'w') as file:  # Open a file in write mode for writing centrality measures\n",
    "    for node in graph.nodes:  # Iterate over each node in the graph\n",
    "        file.write(f\"Node: {node}\\n\")  # Write the node label to the file\n",
    "        file.write(f\"Degree Centrality: {degree_centrality[node]}\\n\")  # Write degree centrality to the file\n",
    "        file.write(f\"Betweenness Centrality: {betweenness_centrality[node]}\\n\")  # Write betweenness centrality to the file\n",
    "        file.write(f\"Closeness Centrality: {closeness_centrality[node]}\\n\")  # Write closeness centrality to the file\n",
    "        file.write(f\"Eigenvector Centrality: {eigenvector_centrality[node]}\\n\")  # Write eigenvector centrality to the file\n",
    "        file.write(\"------------------------\\n\")  # Write a separator line to the file"
   ]
  },
  {
   "cell_type": "code",
   "execution_count": null,
   "metadata": {},
   "outputs": [],
   "source": [
    "print(\"Centrality analysis results have been saved to Centrality_Analysis_results.txt file.\")  # Print a completion message"
   ]
  },
  {
   "cell_type": "code",
   "execution_count": null,
   "metadata": {},
   "outputs": [],
   "source": []
  },
  {
   "cell_type": "code",
   "execution_count": null,
   "metadata": {},
   "outputs": [],
   "source": []
  }
 ],
 "metadata": {
  "kernelspec": {
   "display_name": "base",
   "language": "python",
   "name": "python3"
  },
  "language_info": {
   "codemirror_mode": {
    "name": "ipython",
    "version": 3
   },
   "file_extension": ".py",
   "mimetype": "text/x-python",
   "name": "python",
   "nbconvert_exporter": "python",
   "pygments_lexer": "ipython3",
   "version": "3.9.7"
  },
  "orig_nbformat": 4
 },
 "nbformat": 4,
 "nbformat_minor": 2
}
