{
 "cells": [
  {
   "cell_type": "code",
   "execution_count": 1,
   "metadata": {},
   "outputs": [],
   "source": [
    "import networkx as nx  # Import the NetworkX library for working with graphs"
   ]
  },
  {
   "cell_type": "code",
   "execution_count": null,
   "metadata": {},
   "outputs": [],
   "source": [
    "# Load the graph from the GraphML file\n",
    "graph = nx.read_graphml(\"Network.graphml\")"
   ]
  },
  {
   "cell_type": "code",
   "execution_count": null,
   "metadata": {},
   "outputs": [],
   "source": [
    "# Calculate the degree of each node\n",
    "degree = dict(graph.degree())"
   ]
  },
  {
   "cell_type": "code",
   "execution_count": null,
   "metadata": {},
   "outputs": [],
   "source": [
    "# Calculate the average degree\n",
    "average_degree = sum(degree.values()) / len(degree)"
   ]
  },
  {
   "cell_type": "code",
   "execution_count": null,
   "metadata": {},
   "outputs": [],
   "source": [
    "# Write the degree and average degree to a file\n",
    "with open(\"Degree_of_Graph_results.txt\", \"w\") as f:\n",
    "    f.write(\"Degree of each node:\\n\")  # Write the header for the degree of each node section\n",
    "    for node, deg in degree.items():\n",
    "        f.write(f\"Node {node}: {deg}\\n\")  # Write the degree of each node to the file\n",
    "    f.write(f\"\\nAverage degree: {average_degree}\\n\")  # Write the average degree to the file"
   ]
  }
 ],
 "metadata": {
  "kernelspec": {
   "display_name": "Python 3",
   "language": "python",
   "name": "python3"
  },
  "language_info": {
   "codemirror_mode": {
    "name": "ipython",
    "version": 3
   },
   "file_extension": ".py",
   "mimetype": "text/x-python",
   "name": "python",
   "nbconvert_exporter": "python",
   "pygments_lexer": "ipython3",
   "version": "3.11.1"
  },
  "orig_nbformat": 4
 },
 "nbformat": 4,
 "nbformat_minor": 2
}
