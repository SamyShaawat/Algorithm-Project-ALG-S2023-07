{
 "cells": [
  {
   "cell_type": "code",
   "execution_count": 3,
   "metadata": {},
   "outputs": [],
   "source": [
    "import networkx as nx # Import the NetworkX library for working with graphs \n",
    "import numpy as np # Import the numpy library for numerical calculations \n",
    "import matplotlib.pyplot as plt # Import the matplotlib library for plotting\n",
    "import scipy.stats # Import the scipy.stats module for statistical functions"
   ]
  },
  {
   "cell_type": "code",
   "execution_count": 4,
   "metadata": {},
   "outputs": [],
   "source": [
    "graph = nx.read_graphml(\"Network.graphml\")"
   ]
  },
  {
   "cell_type": "code",
   "execution_count": 5,
   "metadata": {},
   "outputs": [],
   "source": [
    "degree = dict(graph.degree())"
   ]
  },
  {
   "cell_type": "code",
   "execution_count": 6,
   "metadata": {},
   "outputs": [],
   "source": [
    "degree_values = list(degree.values())"
   ]
  },
  {
   "cell_type": "code",
   "execution_count": 29,
   "metadata": {},
   "outputs": [],
   "source": [
    "bins = 10 # Number of bins for the histogram \n",
    "hist, bin_edges = np.histogram(degree_values, bins=bins) # Calculate the frequencies and the bin edges\n"
   ]
  },
  {
   "cell_type": "code",
   "execution_count": 30,
   "metadata": {},
   "outputs": [],
   "source": [
    "average_degree = sum(degree_values) / len(degree_values) # Calculate the average degree \n",
    "max_degree = max(degree_values) # Calculate the maximum degree \n",
    "min_degree = min(degree_values) # Calculate the minimum degree \n",
    "std_degree = np.std(degree_values) # Calculate the standard deviation of the degree \n",
    "skew_degree = scipy.stats.skew(degree_values) # Use the scipy.stats.skew function\n",
    "kurt_degree = scipy.stats.kurtosis(degree_values) # Use the scipy.stats.kurtosis function"
   ]
  },
  {
   "cell_type": "code",
   "execution_count": 31,
   "metadata": {},
   "outputs": [],
   "source": [
    "description = \"The degree distribution of the graph has \" + str(bins) + \" bins, ranging from \" + str(min_degree) + \" to \" + str(max_degree) + \".\\n\" # Write the first sentence of the description \n",
    "description += \"The average degree is \" + str(average_degree) + \", with a standard deviation of \" + str(std_degree) + \".\\n\" # Write the second sentence of the description \n",
    "if skew_degree > 0: # Check if the distribution is positively skewed\n",
    "    description += \"The distribution is positively skewed, meaning that most nodes have low degrees and a few nodes have high degrees.\\n\" # Write the third sentence of the description \n",
    "elif skew_degree < 0: # Check if the distribution is negatively skewed \n",
    "    description += \"The distribution is negatively skewed, meaning that most nodes have high degrees and a few nodes have low degrees.\\n\" # Write the third sentence of the description \n",
    "else: # Check if the distribution is symmetric \n",
    "    description += \"The distribution is symmetric, meaning that nodes have similar degrees around the average.\\n\" # Write the third sentence of the description\n",
    "\n",
    "if kurt_degree > 0: # Check if the distribution is leptokurtic \n",
    "    description += \"The distribution is leptokurtic, meaning that it has a sharp peak and heavy tails.\\n\" # Write the fourth sentence of the description \n",
    "elif kurt_degree < 0: # Check if the distribution is platykurtic \n",
    "    description += \"The distribution is platykurtic, meaning that it has a flat peak and light tails.\\n\" # Write the fourth sentence of the description \n",
    "else: # Check if the distribution is mesokurtic \n",
    "    description += \"The distribution is mesokurtic, meaning that it has a normal peak and tails.\\n\" # Write the fourth sentence of the description"
   ]
  },
  {
   "cell_type": "code",
   "execution_count": 32,
   "metadata": {},
   "outputs": [],
   "source": [
    "with open(\"Degree_Distribution_test_results.txt\", \"w\") as f: \n",
    "    f.write(\"Histogram data:\\n\") # Write header for histogram data section \n",
    "    f.write(\"Bin edges: \" + str(bin_edges) + \"\\n\") # Write bin edges to file \n",
    "    f.write(\"Frequencies: \" + str(hist) + \"\\n\") # Write frequencies to file \n",
    "    f.write(\"\\nDescription:\\n\") # Write header for description section \n",
    "    f.write(description) # Write description to file"
   ]
  },
  {
   "cell_type": "code",
   "execution_count": 33,
   "metadata": {},
   "outputs": [
    {
     "data": {
      "image/png": "[encoded data removed]",
      "text/plain": [
       "<Figure size 1000x600 with 1 Axes>"
      ]
     },
     "metadata": {},
     "output_type": "display_data"
    }
   ],
   "source": [
    "# Add these lines after importing matplotlib.pyplot as plt\n",
    "plt.figure(figsize=(10, 6)) # Create a new figure object with a larger size\n",
    "plt.bar(bin_edges[:-1], hist, width=bin_edges[1]-bin_edges[0], color=\"blue\") # Plot a bar chart of the frequencies and bin edges with a red color\n",
    "plt.xlabel(\"Degree\") # Add a label for the x-axis that indicates what variable we are plotting\n",
    "plt.ylabel(\"Frequency\") # Add a label for the y-axis that indicates what measure we are using\n",
    "plt.title(\"Degree Distribution of the Graph\") # Add a title for the plot that summarizes what we are showing\n",
    "plt.yscale(\"log\") # Use a logarithmic scale for the y-axis to show the variation better\n",
    "plt.grid(True) # Add some grid lines to the plot to help identify the values\n",
    "plt.savefig(\"Degree_Disjhkjfdtribution.png\") # Save the plot as an image file with a meaningful name\n",
    "plt.show() # Show the plot on the screen so we can see it\n"
   ]
  },
  {
   "cell_type": "code",
   "execution_count": null,
   "metadata": {},
   "outputs": [],
   "source": []
  }
 ],
 "metadata": {
  "kernelspec": {
   "display_name": "Python 3",
   "language": "python",
   "name": "python3"
  },
  "language_info": {
   "codemirror_mode": {
    "name": "ipython",
    "version": 3
   },
   "file_extension": ".py",
   "mimetype": "text/x-python",
   "name": "python",
   "nbconvert_exporter": "python",
   "pygments_lexer": "ipython3",
   "version": "3.11.3"
  },
  "orig_nbformat": 4
 },
 "nbformat": 4,
 "nbformat_minor": 2
}
