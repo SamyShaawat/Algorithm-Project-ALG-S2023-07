{
 "cells": [
  {
   "cell_type": "code",
   "execution_count": 1,
   "metadata": {},
   "outputs": [],
   "source": [
    "import networkx as nx\n",
    "\n",
    "# Load the graph from the GraphML file\n",
    "graph = nx.read_graphml(\"Network.graphml\")\n",
    "\n",
    "# Calculate the degree of each node\n",
    "degree = dict(graph.degree())\n",
    "\n",
    "# Calculate the average degree\n",
    "average_degree = sum(degree.values()) / len(degree)\n",
    "\n",
    "# Write the degree and average degree to a file\n",
    "with open(\"Degree_of_Graph_results.txt\", \"w\") as f:\n",
    "    f.write(\"Degree of each node:\\n\")\n",
    "    for node, deg in degree.items():\n",
    "        f.write(f\"Node {node}: {deg}\\n\")\n",
    "    f.write(f\"\\nAverage degree: {average_degree}\\n\")\n"
   ]
  }
 ],
 "metadata": {
  "kernelspec": {
   "display_name": "Python 3",
   "language": "python",
   "name": "python3"
  },
  "language_info": {
   "codemirror_mode": {
    "name": "ipython",
    "version": 3
   },
   "file_extension": ".py",
   "mimetype": "text/x-python",
   "name": "python",
   "nbconvert_exporter": "python",
   "pygments_lexer": "ipython3",
   "version": "3.11.1"
  },
  "orig_nbformat": 4
 },
 "nbformat": 4,
 "nbformat_minor": 2
}
