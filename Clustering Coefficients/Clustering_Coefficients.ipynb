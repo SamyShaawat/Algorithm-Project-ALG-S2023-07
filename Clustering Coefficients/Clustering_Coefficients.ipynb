{
 "cells": [
  {
   "cell_type": "code",
   "execution_count": 1,
   "metadata": {},
   "outputs": [
    {
     "name": "stdout",
     "output_type": "stream",
     "text": [
      "Clustering analysis results saved to clustering_analysis.txt.\n"
     ]
    }
   ],
   "source": [
    "import networkx as nx\n",
    "\n",
    "# Load the graph from the GraphML file\n",
    "graph = nx.read_graphml(\"Network.graphml\")\n",
    "\n",
    "# Calculate the clustering coefficients for each node\n",
    "clustering_coefficients = nx.clustering(graph)\n",
    "\n",
    "# Calculate the average clustering coefficient\n",
    "avg_clustering_coefficient = nx.average_clustering(graph)\n",
    "\n",
    "# Save clustering coefficients and average clustering coefficient to a file\n",
    "output_file = \"clustering_analysis.txt\"\n",
    "with open(output_file, \"w\") as file:\n",
    "    for node, coefficient in clustering_coefficients.items():\n",
    "        file.write(f\"Node {node}: Clustering Coefficient = {coefficient}\\n\")\n",
    "    file.write(f\"Average Clustering Coefficient: {avg_clustering_coefficient}\\n\")\n",
    "\n",
    "print(f\"Clustering analysis results saved to {output_file}.\")\n"
   ]
  }
 ],
 "metadata": {
  "kernelspec": {
   "display_name": "Python 3",
   "language": "python",
   "name": "python3"
  },
  "language_info": {
   "codemirror_mode": {
    "name": "ipython",
    "version": 3
   },
   "file_extension": ".py",
   "mimetype": "text/x-python",
   "name": "python",
   "nbconvert_exporter": "python",
   "pygments_lexer": "ipython3",
   "version": "3.11.1"
  },
  "orig_nbformat": 4
 },
 "nbformat": 4,
 "nbformat_minor": 2
}
