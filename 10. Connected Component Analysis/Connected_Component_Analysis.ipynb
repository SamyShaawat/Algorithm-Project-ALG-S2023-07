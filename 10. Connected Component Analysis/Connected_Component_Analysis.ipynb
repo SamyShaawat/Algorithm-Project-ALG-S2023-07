{
 "cells": [
  {
   "cell_type": "code",
   "execution_count": null,
   "metadata": {},
   "outputs": [],
   "source": [
    "import networkx as nx  # Importing the networkx library for graph operations"
   ]
  },
  {
   "cell_type": "code",
   "execution_count": null,
   "metadata": {},
   "outputs": [],
   "source": [
    "graph = nx.read_graphml(\"Network.graphml\")  # Reading the graph data from the specified GraphML file"
   ]
  },
  {
   "cell_type": "code",
   "execution_count": null,
   "metadata": {},
   "outputs": [],
   "source": [
    "components = list(nx.connected_components(graph))  # Extracting the connected components of the graph\n",
    "output_file = \"Connected_Component_Analysis_results.txt\"  # Setting the output file name for saving the results"
   ]
  },
  {
   "cell_type": "code",
   "execution_count": null,
   "metadata": {},
   "outputs": [],
   "source": [
    "with open(output_file, \"w\") as file:  # Opening the output file in write mode\n",
    "    file.write(f\"Number of connected components: {len(components)}\\n\\n\")  # Writing the number of connected components to the file\n",
    "\n",
    "    for i, comp in enumerate(components, start=1):  # Iterating over the components and their indices\n",
    "        file.write(f\"Component {i}: {comp}\\n\")  # Writing the component and its index to the file"
   ]
  },
  {
   "cell_type": "code",
   "execution_count": null,
   "metadata": {},
   "outputs": [],
   "source": [
    "print(f\"Connected components analysis results saved to {output_file}.\")  # Printing a message indicating where the results were saved"
   ]
  },
  {
   "cell_type": "code",
   "execution_count": null,
   "metadata": {},
   "outputs": [],
   "source": [
    "# Assuming the txt file is named 'components.txt' and has the format you showed\n",
    "# Open the file and read the lines\n",
    "with open('Connected_Component_Analysis_results.txt', 'r') as f:\n",
    "    lines = f.readlines()\n",
    "\n",
    "# Initialize some variables to store the results\n",
    "max_count = 0 # The maximum number of elements in a component\n",
    "max_component = None # The component with the maximum number of elements\n",
    "single_count = 0 # The number of components with only one element\n",
    "single_components = [] # The list of components with only one element\n",
    "\n",
    "# Loop through the lines and process each component\n",
    "for line in lines:\n",
    "    # Skip empty lines or lines without ':'\n",
    "    if ':' not in line:\n",
    "        continue\n",
    "    # Split the line by ':' and get the component name and elements\n",
    "    name, elements = line.split(':')\n",
    "    # Strip the whitespace and curly brackets from the elements string\n",
    "    elements = elements.strip().strip('{}')\n",
    "    # Split the elements by ',' and get the list of element names\n",
    "    element_list = elements.split(',')\n",
    "    # Get the number of elements in the component\n",
    "    element_count = len(element_list)\n",
    "    # Compare the element count with the current maximum count\n",
    "    if element_count > max_count:\n",
    "        # Update the maximum count and component\n",
    "        max_count = element_count\n",
    "        max_component = name\n",
    "    # Check if the element count is one\n",
    "    if element_count == 1:\n",
    "        # Increment the single count and append the component name to the list\n",
    "        single_count += 1\n",
    "        single_components.append(name)\n",
    "\n",
    "# Print the results\n",
    "print(f'The maximum number of elements in a component is {max_count}, and it belongs to {max_component}.')\n",
    "print(f'There are {single_count} components with only one element, and they are {\", \".join(single_components)}.')\n"
   ]
  },
  {
   "cell_type": "code",
   "execution_count": null,
   "metadata": {},
   "outputs": [],
   "source": [
    "import matplotlib.pyplot as plt\n",
    "\n",
    "# Read the data from the file\n",
    "with open(\"Connected_Component_Analysis_results.txt\", \"r\") as file:\n",
    "    lines = file.readlines()\n",
    "\n",
    "component_sizes = []  # List to store the sizes of each component\n",
    "component_labels = []  # List to store component labels\n",
    "\n",
    "# Parse the lines and extract the sizes of each component\n",
    "for line in lines:\n",
    "    if line.startswith(\"Component\"):\n",
    "        component = line.split(\":\")[1].strip()\n",
    "        component_size = len(component.split(\",\"))\n",
    "        component_sizes.append(component_size)\n",
    "        component_labels.append(f\"Component {len(component_labels) + 1}\")\n",
    "\n",
    "# Set a threshold to limit the number of components shown\n",
    "threshold = 20\n",
    "\n",
    "# Filter components and their sizes based on the threshold\n",
    "filtered_component_labels = component_labels[:threshold]\n",
    "filtered_component_sizes = component_sizes[:threshold]\n",
    "\n",
    "# Create a table of component indices and sizes\n",
    "table_data = list(zip(filtered_component_labels, filtered_component_sizes))\n",
    "\n",
    "# Set figure size\n",
    "plt.figure(figsize=(8, 6))\n",
    "\n",
    "# Create the table\n",
    "table = plt.table(cellText=table_data,\n",
    "                  colLabels=['Component', 'Size'],\n",
    "                  cellLoc='center',\n",
    "                  loc='center')\n",
    "\n",
    "table.auto_set_font_size(False)\n",
    "table.set_fontsize(12)\n",
    "table.scale(1, 1.5)\n",
    "\n",
    "# Hide axes\n",
    "ax = plt.gca()\n",
    "ax.get_xaxis().set_visible(False)\n",
    "ax.get_yaxis().set_visible(False)\n",
    "plt.box(on=None)\n",
    "\n",
    "\n",
    "plt.show()\n"
   ]
  },
  {
   "attachments": {},
   "cell_type": "markdown",
   "metadata": {},
   "source": [
    "#### Connected Components Analysis\n",
    "\n",
    "- The code performs a connected components analysis on a graph loaded from a GraphML file using the `networkx` library in Python.\n",
    "\n",
    "- This code performs connected component analysis on a graph using the NetworkX library. The graph data is read from a GraphML file named \"Network.graphml\". The connected components of the graph are extracted using the `nx.connected_components()` function and stored in a list named `components`. \n",
    "\n",
    "- The number of connected components is written to an output file named \"Connected_Component_Analysis_results.txt\". The file is opened in write mode using the `with` statement, and the number of connected components is written to the file using the `file.write()` method.\n",
    "\n",
    "- Next, a loop iterates over the components and their indices, and the component and its index are written to the output file using the `file.write()` method.\n",
    "\n",
    "- component 10 its name :EgyptianHistoryMemes have  5 members: {'IacobusCaesar', 'Joseph-Memestar', 'RoroS4321', 'AnticRetard', 'Memetaro_Kujo'} this component we draw its connected graph look at sub graph-compontent10.png file\n",
    "\n",
    "\n"
   ]
  }
 ],
 "metadata": {
  "kernelspec": {
   "display_name": "base",
   "language": "python",
   "name": "python3"
  },
  "language_info": {
   "codemirror_mode": {
    "name": "ipython",
    "version": 3
   },
   "file_extension": ".py",
   "mimetype": "text/x-python",
   "name": "python",
   "nbconvert_exporter": "python",
   "pygments_lexer": "ipython3",
   "version": "3.11.3"
  },
  "orig_nbformat": 4
 },
 "nbformat": 4,
 "nbformat_minor": 2
}
