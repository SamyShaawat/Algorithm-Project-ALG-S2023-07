{
 "cells": [
  {
   "cell_type": "code",
   "execution_count": null,
   "metadata": {},
   "outputs": [],
   "source": [
    "import networkx as nx  # Import the NetworkX library for working with graphs\n",
    "import random  # Import the random library for selecting random nodes"
   ]
  },
  {
   "cell_type": "code",
   "execution_count": null,
   "metadata": {},
   "outputs": [],
   "source": [
    "# Load the GraphML file\n",
    "graph = nx.read_graphml(\"Network.graphml\")"
   ]
  },
  {
   "cell_type": "code",
   "execution_count": null,
   "metadata": {},
   "outputs": [],
   "source": [
    "# Convert the graph nodes to a list\n",
    "nodes = list(graph.nodes())"
   ]
  },
  {
   "cell_type": "code",
   "execution_count": null,
   "metadata": {},
   "outputs": [],
   "source": [
    "# Select two random nodes from the list\n",
    "random_nodes = random.sample(nodes, 2)\n",
    "source_node = random_nodes[0]\n",
    "target_node = random_nodes[1]"
   ]
  },
  {
   "cell_type": "code",
   "execution_count": null,
   "metadata": {},
   "outputs": [],
   "source": [
    "# Find the shortest path\n",
    "shortest_path = nx.shortest_path(graph, source=source_node, target=target_node)\n",
    "shortest_path_length = nx.shortest_path_length(graph, source=source_node, target=target_node)"
   ]
  },
  {
   "cell_type": "code",
   "execution_count": null,
   "metadata": {},
   "outputs": [],
   "source": [
    "# Save the output to a text file\n",
    "output_file = \"Shortest_Path_Analysis_results.txt\"\n",
    "with open(output_file, \"w\") as file:\n",
    "    file.write(f\"Source Node: {source_node}\\n\")  # Write the source node to the file\n",
    "    file.write(f\"Target Node: {target_node}\\n\")  # Write the target node to the file\n",
    "    file.write(f\"Shortest Path: {shortest_path}\\n\")  # Write the shortest path to the file\n",
    "    file.write(f\"Shortest Path Length: {shortest_path_length}\\n\")  # Write the shortest path length to the file"
   ]
  },
  {
   "cell_type": "code",
   "execution_count": null,
   "metadata": {},
   "outputs": [],
   "source": [
    "print(f\"Path analysis results saved to {output_file}.\")  # Print a message indicating that the results have been saved to a file"
   ]
  },
  {
   "attachments": {},
   "cell_type": "markdown",
   "metadata": {},
   "source": [
    "#### Shortest Path Analysis\n",
    "\n",
    "This Python code analyzes the shortest path between two random nodes in a graph using the NetworkX library. It performs the following steps:\n",
    "\n",
    "1. Load the graph from a GraphML file.\n",
    "2. Convert the graph nodes to a list.\n",
    "3. Select two random nodes from the list.\n",
    "4. Find the shortest path between the two nodes.\n",
    "5. Write the source node, target node, shortest path, and shortest path length to a text file.\n",
    "\n",
    "- The shortest path between two nodes in a graph is the path with the smallest number of edges between the two nodes. The shortest path can be used to measure the distance between two nodes in a network.\n",
    "\n",
    "- The code reads a graph from a GraphML file using the `nx.read_graphml()` function from the NetworkX library. The function takes a file name as input and returns a graph object.\n",
    "\n",
    "- The code then converts the graph nodes to a list using the `list()` function. This is done to make it easier to select random nodes from the graph.\n",
    "\n",
    "- Next, the code selects two random nodes from the list of nodes using the `random.sample()` function from the random library. The `sample()` function takes a list and a sample size as input and returns a list of randomly selected items.\n",
    "\n",
    "- The code then finds the shortest path between the two nodes using the `nx.shortest_path()` function from the NetworkX library. This function takes a graph, a source node, and a target node as inputs, and returns a list of nodes representing the shortest path between the source and target nodes.\n",
    "\n",
    "- In addition, the code also calculates the length of the shortest path using the `nx.shortest_path_length()` function from the NetworkX library. This function takes the same inputs as the `nx.shortest_path()` function and returns the length of the shortest path between the source and target nodes.\n",
    "\n",
    "- After finding the shortest path and its length, the code writes the source node, target node, shortest path, and shortest path length to a text file called \"Shortest_Path_Analysis_results.txt\". This file will contain four lines: one for the source node, one for the target node, one for the shortest path, and one for the shortest path length.\n"
   ]
  }
 ],
 "metadata": {
  "kernelspec": {
   "display_name": "base",
   "language": "python",
   "name": "python3"
  },
  "language_info": {
   "codemirror_mode": {
    "name": "ipython",
    "version": 3
   },
   "file_extension": ".py",
   "mimetype": "text/x-python",
   "name": "python",
   "nbconvert_exporter": "python",
   "pygments_lexer": "ipython3",
   "version": "3.11.1"
  },
  "orig_nbformat": 4
 },
 "nbformat": 4,
 "nbformat_minor": 2
}
