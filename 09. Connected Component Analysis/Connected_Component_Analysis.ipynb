{
 "cells": [
  {
   "cell_type": "code",
   "execution_count": null,
   "metadata": {},
   "outputs": [],
   "source": [
    "import networkx as nx  # Importing the networkx library for graph operations"
   ]
  },
  {
   "cell_type": "code",
   "execution_count": null,
   "metadata": {},
   "outputs": [],
   "source": [
    "graph = nx.read_graphml(\"Network.graphml\")  # Reading the graph data from the specified GraphML file"
   ]
  },
  {
   "cell_type": "code",
   "execution_count": null,
   "metadata": {},
   "outputs": [],
   "source": [
    "components = list(nx.connected_components(graph))  # Extracting the connected components of the graph\n",
    "output_file = \"Connected_Component_Analysis_results.txt\"  # Setting the output file name for saving the results"
   ]
  },
  {
   "cell_type": "code",
   "execution_count": null,
   "metadata": {},
   "outputs": [],
   "source": [
    "with open(output_file, \"w\") as file:  # Opening the output file in write mode\n",
    "    file.write(f\"Number of connected components: {len(components)}\\n\\n\")  # Writing the number of connected components to the file\n",
    "\n",
    "    for i, comp in enumerate(components, start=1):  # Iterating over the components and their indices\n",
    "        file.write(f\"Component {i}: {comp}\\n\")  # Writing the component and its index to the file"
   ]
  },
  {
   "cell_type": "code",
   "execution_count": null,
   "metadata": {},
   "outputs": [],
   "source": [
    "print(f\"Connected components analysis results saved to {output_file}.\")  # Printing a message indicating where the results were saved"
   ]
  },
  {
   "attachments": {},
   "cell_type": "markdown",
   "metadata": {},
   "source": [
    "#### Connected Components Analysis\n",
    "\n",
    "- The code performs a connected components analysis on a graph loaded from a GraphML file using the `networkx` library in Python.\n",
    "\n",
    "- This code performs connected component analysis on a graph using the NetworkX library. The graph data is read from a GraphML file named \"Network.graphml\". The connected components of the graph are extracted using the `nx.connected_components()` function and stored in a list named `components`. \n",
    "\n",
    "- The number of connected components is written to an output file named \"Connected_Component_Analysis_results.txt\". The file is opened in write mode using the `with` statement, and the number of connected components is written to the file using the `file.write()` method.\n",
    "\n",
    "- Next, a loop iterates over the components and their indices, and the component and its index are written to the output file using the `file.write()` method.\n"
   ]
  }
 ],
 "metadata": {
  "kernelspec": {
   "display_name": "base",
   "language": "python",
   "name": "python3"
  },
  "language_info": {
   "codemirror_mode": {
    "name": "ipython",
    "version": 3
   },
   "file_extension": ".py",
   "mimetype": "text/x-python",
   "name": "python",
   "nbconvert_exporter": "python",
   "pygments_lexer": "ipython3",
   "version": "3.11.1"
  },
  "orig_nbformat": 4
 },
 "nbformat": 4,
 "nbformat_minor": 2
}
