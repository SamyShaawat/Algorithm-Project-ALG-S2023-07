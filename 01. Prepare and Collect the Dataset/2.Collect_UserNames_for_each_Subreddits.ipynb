{
 "cells": [
  {
   "cell_type": "code",
   "execution_count": null,
   "metadata": {},
   "outputs": [],
   "source": [
    "import praw  # Import the PRAW library for interacting with the Reddit API"
   ]
  },
  {
   "cell_type": "code",
   "execution_count": null,
   "metadata": {},
   "outputs": [],
   "source": [
    "# Authenticate using your Reddit app credentials\n",
    "reddit = praw.Reddit(client_id='IVuNWrxtk3Ii2EvXXhRq4Q',\n",
    "                     client_secret='1KBGwJ1zPr5THycHuzowmA085yPqow',\n",
    "                     user_agent='Usernames')"
   ]
  },
  {
   "cell_type": "code",
   "execution_count": null,
   "metadata": {},
   "outputs": [],
   "source": [
    "# Define the subreddits you want to scrape\n",
    "subreddits = [ 'subreddit_name'] # get each subreddit_name from list_Of_Subreddits.txt"
   ]
  },
  {
   "cell_type": "code",
   "execution_count": null,
   "metadata": {},
   "outputs": [],
   "source": [
    "# Create an empty list to store the usernames\n",
    "usernames = []"
   ]
  },
  {
   "cell_type": "code",
   "execution_count": null,
   "metadata": {},
   "outputs": [],
   "source": [
    "# Loop through the subreddits and collect usernames\n",
    "for subreddit_name in subreddits:  # Loop through each subreddit name in the list\n",
    "    subreddit = reddit.subreddit(subreddit_name)  # Get the subreddit object by name\n",
    "    for submission in subreddit.hot(limit=1000):  # Loop through the top 1000 \"hot\" submissions in the subreddit\n",
    "        author = submission.author  # Get the author of the submission\n",
    "        if author and author.name not in usernames:  # If the author exists and is not already in the list of usernames\n",
    "            usernames.append(author.name)  # Add the author's username to the list\n",
    "            print(f\"Username collected: {author.name}\")  # Print a message indicating that a username hasbeen collected\n",
    "\n",
    "    print(f\"Finished collecting usernames from {subreddit_name}\")  # Print a message indicating that all usernames have been collected from the current subreddit"
   ]
  },
  {
   "cell_type": "code",
   "execution_count": null,
   "metadata": {},
   "outputs": [],
   "source": [
    "# Write the collected usernames to a file\n",
    "with open('subreddit_name.txt', 'w') as f:  # Open a file called 'subreddit_name.txt' in write mode\n",
    "    for username in usernames:  # Loop through each username in the list\n",
    "        f.write(username + '\\n')  # Write the username to a new line in the file"
   ]
  },
  {
   "cell_type": "code",
   "execution_count": null,
   "metadata": {},
   "outputs": [],
   "source": [
    "print(\"All usernames collected and saved to file.\")  # Print a message indicating that all usernames have been collected and saved to the file"
   ]
  },
  {
   "attachments": {},
   "cell_type": "markdown",
   "metadata": {},
   "source": [
    "This Python code collects the usernames of users who have posted in a given subreddit using the PRAW library. Here's what the code does:\n",
    "\n",
    "1. The code imports the PRAW library, which is used for interacting with the Reddit API.\n",
    "2. The code authenticates using your Reddit app credentials. This step is necessary for making API requests to Reddit on behalf of your app.\n",
    "3. The code defines a list of subreddits to scrape for usernames.\n",
    "4. The code creates an empty list to store the collected usernames.\n",
    "5. The code loops through each subreddit in the list, and for each subreddit, it collects the usernames of users who have posted in it.\n",
    "6. The code writes the collected usernames to a file.\n",
    "\n",
    "- The code uses the PRAW library to interact with the Reddit API. It authenticates using your Reddit app credentials and then defines a list of subreddits to scrape for usernames of users who have posted in them. It creates an empty list to store the collected usernames.\n",
    "\n",
    "- The code then uses a loop to iterate through each subreddit in the list and collect the usernames of users who have posted in the subreddit. It uses the `reddit.subreddit()` function from the PRAW library to get the subreddit object by name. Next, it loops through the top 1000 \"hot\" submissions in the subreddit using the `subreddit.hot()` function and gets the author ofeach submission using the `submission.author` attribute. If the author exists and is not already in the list of usernames, it adds the author's username to the list and prints a message indicating that a username has been collected. The code then prints a message indicating that all usernames have been collected from the current subreddit.\n",
    "\n",
    "- After collecting usernames for all subreddits, the code writes the collected usernames to a file using the `open()` and `write()` functions. It opens a file called \"subreddit_name.txt\" (where \"subreddit_name\" is the name of the subreddit being scraped), and writes each username to a new line in the file. Finally, the code prints a message indicating that all usernames have been collected and saved to the file.\n",
    "\n",
    "- This code  is useful for collecting a list of users who are active in a particular subreddit, which will be used for further analysis.\n"
   ]
  }
 ],
 "metadata": {
  "language_info": {
   "name": "python"
  },
  "orig_nbformat": 4
 },
 "nbformat": 4,
 "nbformat_minor": 2
}
