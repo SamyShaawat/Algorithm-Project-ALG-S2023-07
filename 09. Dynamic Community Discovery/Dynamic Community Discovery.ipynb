{
 "cells": [
  {
   "cell_type": "code",
   "execution_count": null,
   "metadata": {},
   "outputs": [],
   "source": [
    "import networkx as nx # Import the networkx library for graph analysis\n",
    "import matplotlib.pyplot as plt # Import the matplotlib library for plotting\n",
    "from networkx.algorithms.community import label_propagation_communities # Import the label propagation algorithm for community detection"
   ]
  },
  {
   "cell_type": "code",
   "execution_count": null,
   "metadata": {},
   "outputs": [],
   "source": [
    "# Load graph from GraphML file\n",
    "graph = nx.read_graphml('Network.graphml')"
   ]
  },
  {
   "cell_type": "code",
   "execution_count": null,
   "metadata": {},
   "outputs": [],
   "source": [
    "# Perform community detection using label propagation algorithm\n",
    "communities = label_propagation_communities(graph)"
   ]
  },
  {
   "cell_type": "code",
   "execution_count": null,
   "metadata": {},
   "outputs": [],
   "source": [
    "# Create a layout for the graph using spring force model\n",
    "pos = nx.spring_layout(graph)"
   ]
  },
  {
   "cell_type": "code",
   "execution_count": null,
   "metadata": {},
   "outputs": [],
   "source": [
    "# Plot the graph with communities\n",
    "plt.figure(figsize=(8, 6)) # Create a figure with specified size\n",
    "nx.draw(graph, pos, node_color='lightgray', node_size=200, with_labels=False) # Draw the graph with light gray nodes"
   ]
  },
  {
   "cell_type": "code",
   "execution_count": null,
   "metadata": {},
   "outputs": [],
   "source": [
    "# Assign a unique color to each community\n",
    "colors = ['red', 'blue', 'green', 'yellow', 'orange', 'purple'] # Define a list of colors\n",
    "for i, community in enumerate(communities): # Loop over each community and its index\n",
    " nx.draw_networkx_nodes(graph, pos, nodelist=list(community), node_color=colors[i % len(colors)], node_size=200) # Draw the nodes of the community with a color"
   ]
  },
  {
   "cell_type": "code",
   "execution_count": null,
   "metadata": {},
   "outputs": [],
   "source": [
    "plt.title(\"Graph with Detected Communities\") # Add a title to the plot"
   ]
  },
  {
   "cell_type": "code",
   "execution_count": null,
   "metadata": {},
   "outputs": [],
   "source": [
    "# Save the plot to an image file\n",
    "plt.savefig('Dynamic_Community_Discovery_image.png') # Save the figure as an image file"
   ]
  },
  {
   "cell_type": "code",
   "execution_count": null,
   "metadata": {},
   "outputs": [],
   "source": [
    "# Save communities to a text file\n",
    "with open('Dynamic_Community_Discovery_result.txt', 'w') as file: # Open a text file for writing\n",
    "    for i, community in enumerate(communities): # Loop over each community and its index\n",
    "    file.write(f\"Community {i+1}: {community}\\n\") # Write the community number and its members to the file\n",
    "plt.close() # Close the figure"
   ]
  },
  {
   "attachments": {},
   "cell_type": "markdown",
   "metadata": {},
   "source": [
    "#### Graph Community Detection\n",
    "\n",
    "This program performs community detection on a graph using the label propagation algorithm and plots the graph with different colors for each community.\n",
    "\n",
    "#### Steps\n",
    "\n",
    "1. Import the networkx library for graph analysis, the matplotlib library for plotting, and the label propagation algorithm for community detection.\n",
    "2. Load graph from GraphML file using networkx.read_graphml function.\n",
    "3. Perform community detection using label_propagation_communities function from networkx.algorithms.community module. This function returns a generator of sets of nodes, each set representing a community.\n",
    "4. Create a layout for the graph using spring force model using networkx.spring_layout function. This function returns a dictionary of node positions keyed by node label.\n",
    "5. Plot the graph with communities using matplotlib.pyplot functions. Create a figure with specified size, draw the graph with light gray nodes, assign a unique color to each community, and add a title to the plot.\n",
    "6. Save the plot to an image file using matplotlib.pyplot.savefig function.\n",
    "7. Save communities to a text file using open function and write function. Loop over each community and its index and write the community number and its members to the file."
   ]
  }
 ],
 "metadata": {
  "kernelspec": {
   "display_name": "base",
   "language": "python",
   "name": "python3"
  },
  "language_info": {
   "codemirror_mode": {
    "name": "ipython",
    "version": 3
   },
   "file_extension": ".py",
   "mimetype": "text/x-python",
   "name": "python",
   "nbconvert_exporter": "python",
   "pygments_lexer": "ipython3",
   "version": "3.11.1"
  },
  "orig_nbformat": 4
 },
 "nbformat": 4,
 "nbformat_minor": 2
}
