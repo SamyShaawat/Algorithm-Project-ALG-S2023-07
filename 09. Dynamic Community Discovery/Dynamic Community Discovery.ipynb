{
 "cells": [
  {
   "cell_type": "code",
   "execution_count": 1,
   "metadata": {},
   "outputs": [],
   "source": [
    "import networkx as nx # Import the networkx library for graph analysis\n",
    "import matplotlib.pyplot as plt # Import the matplotlib library for plotting\n",
    "from networkx.algorithms.community import label_propagation_communities # Import the label propagation algorithm for community detection"
   ]
  },
  {
   "cell_type": "code",
   "execution_count": 2,
   "metadata": {},
   "outputs": [],
   "source": [
    "# Load graph from GraphML file\n",
    "graph = nx.read_graphml('Network.graphml')"
   ]
  },
  {
   "cell_type": "code",
   "execution_count": 3,
   "metadata": {},
   "outputs": [],
   "source": [
    "# Perform community detection using label propagation algorithm\n",
    "communities = label_propagation_communities(graph)"
   ]
  },
  {
   "cell_type": "code",
   "execution_count": 4,
   "metadata": {},
   "outputs": [],
   "source": [
    "# Create a layout for the graph using spring force model\n",
    "pos = nx.spring_layout(graph)"
   ]
  },
  {
   "cell_type": "code",
   "execution_count": null,
   "metadata": {},
   "outputs": [],
   "source": [
    "plt.figure(figsize=(8, 6)) # Create a figure with specified size\n",
    "# Assign a unique color to each community\n",
    "colors = ['red', 'blue', 'green', 'yellow', 'orange', 'purple'] # Define a list of colors\n",
    "for i, community in enumerate(communities): # Loop over each community and its index\n",
    "    nx.draw_networkx_nodes(graph, pos, nodelist=list(community), node_color=colors[i % len(colors)], node_size=200) # Draw the nodes of the community with a color\n",
    "plt.savefig(\"Dynamic_Community_Discovery_image.png\", format=\"PNG\", dpi=300)"
   ]
  },
  {
   "cell_type": "code",
   "execution_count": 11,
   "metadata": {},
   "outputs": [],
   "source": [
    "# Save communities to a text file\n",
    "with open('Dynamic_Community_Discovery_result.txt', 'w') as file: # Open a text file for writing\n",
    "    for i, community in enumerate(communities): # Loop over each community and its index\n",
    "        file.write(f\"Community {i+1}: {community}\\n\") # Write the community number and its members to the file\n"
   ]
  },
  {
   "cell_type": "code",
   "execution_count": null,
   "metadata": {},
   "outputs": [],
   "source": [
    "# Create a table from the communities data\n",
    "table_data = [] # Create an empty list to store the table data\n",
    "for i, community in enumerate(communities): # Loop over each community and its index\n",
    "    table_data.append([f\"{i+1}\", len(community)]) # Append the community number and its size to the table data\n",
    "\n",
    "# Define the figure and axes object for the table\n",
    "fig2, ax2 = plt.subplots(figsize=(4, 4)) # Create a figure with specified size\n",
    "ax2.axis('off') # Hide the axes\n",
    "\n",
    "# Create the table using matplotlib.pyplot.table()\n",
    "table = plt.table(cellText=table_data, colLabels=[\"Dynamic Community\", \"Number of Elements\"], loc=\"center\",cellLoc='center') # Create the table with specified cell text, column labels and location\n",
    "\n",
    "# Modify the table appearance\n",
    "table.set_fontsize(12)\n",
    "table.scale(1,2) # Set the width and height scale of the table\n",
    "\n",
    "# Display the table\n",
    "plt.show()\n"
   ]
  },
  {
   "attachments": {},
   "cell_type": "markdown",
   "metadata": {},
   "source": [
    "#### Dynamic Community Discovery\n",
    "\n",
    "This is a program that analyzes a network of nodes and edges and finds groups of nodes that are more densely connected to each other than to the rest of the network. These groups are called communities or clusters.\n",
    "\n",
    "#### Steps\n",
    "\n",
    "1. Import the necessary libraries for graph analysis and plotting.\n",
    "2. Load the graph from a GraphML file that contains the nodes and edges information.\n",
    "3. Perform community detection using the label propagation algorithm, which assigns labels to nodes based on their neighbors' labels until a consensus is reached.\n",
    "4. Create a layout for the graph using the spring force model, which places nodes closer if they are connected by an edge and farther if they are not.\n",
    "5. Create a figure with a specified size and assign a unique color to each community using a list of colors.\n",
    "6. Draw the nodes of each community with their corresponding color and save the figure to a png file with a specified format and dpi.\n",
    "7. Save the communities and their members to a text file by writing the community number and its members in each line.\n",
    "\n",
    "#### Output\n",
    "\n",
    "The output of this program is a png file that shows the graph with different colors for each community, and a text file that lists the communities and their members"
   ]
  }
 ],
 "metadata": {
  "kernelspec": {
   "display_name": "base",
   "language": "python",
   "name": "python3"
  },
  "language_info": {
   "codemirror_mode": {
    "name": "ipython",
    "version": 3
   },
   "file_extension": ".py",
   "mimetype": "text/x-python",
   "name": "python",
   "nbconvert_exporter": "python",
   "pygments_lexer": "ipython3",
   "version": "3.11.3"
  },
  "orig_nbformat": 4
 },
 "nbformat": 4,
 "nbformat_minor": 2
}
