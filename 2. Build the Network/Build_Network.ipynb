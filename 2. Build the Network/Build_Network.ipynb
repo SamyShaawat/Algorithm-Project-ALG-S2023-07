{
  "cells": [
    {
      "cell_type": "code",
      "execution_count": 1,
      "metadata": {},
      "outputs": [],
      "source": [
        "import pandas as pd\n",
        "import networkx as nx\n",
        "import matplotlib.pyplot as plt"
      ]
    },
    {
      "cell_type": "code",
      "execution_count": null,
      "metadata": {},
      "outputs": [],
      "source": [
        "# Read in data from CSV file, skipping the first row\n",
        "df = pd.read_csv('dataset.csv')"
      ]
    },
    {
      "cell_type": "code",
      "execution_count": null,
      "metadata": {},
      "outputs": [],
      "source": [
        "# Create an empty graph\n",
        "graph = nx.Graph()"
      ]
    },
    {
      "cell_type": "code",
      "execution_count": null,
      "metadata": {},
      "outputs": [],
      "source": [
        "# Add nodes for each user\n",
        "users = df['usernames'].unique()\n",
        "graph.add_nodes_from(users)"
      ]
    },
    {
      "cell_type": "code",
      "execution_count": null,
      "metadata": {},
      "outputs": [],
      "source": [
        "# Optimize edge creation\n",
        "# Create a dictionary where each user is mapped to the set of subreddits they participated in\n",
        "user_subs = {user: set(df.loc[df['usernames'] == user][df.columns[1:]].stack().dropna().values) for user in users}\n",
        "# Convert the sets of subreddits to lists\n",
        "user_subs = {user: list(subs) for user, subs in user_subs.items()}"
      ]
    },
    {
      "cell_type": "code",
      "execution_count": null,
      "metadata": {},
      "outputs": [],
      "source": [
        "# Add edges for each combination of users who participated in the same subreddit\n",
        "for i, user1 in enumerate(users):\n",
        "    print(f'Start user {user1}')\n",
        "    user1_subs_list = user_subs[user1]\n",
        "    for user2 in users[i + 1:]:\n",
        "        user2_subs_list = user_subs[user2]\n",
        "        # Find the common subreddits between user1 and user2\n",
        "        common_subs = set(user1_subs_list).intersection(user2_subs_list)\n",
        "        if common_subs:\n",
        "            # Convert the set of common subreddits to a list\n",
        "            common_subs_list = list(common_subs)\n",
        "            # Exclude unsupported data values (e.g., datetime objects) by converting them to strings\n",
        "            common_subs_list = [str(sub) for sub in common_subs_list]\n",
        "            # Add an edge between user1 and user2 with the common subreddits as an attribute\n",
        "            graph.add_edge(user1, user2, subreddits=common_subs_list)\n",
        "    print(f'Finished user {user1}')"
      ]
    },
    {
      "cell_type": "code",
      "execution_count": null,
      "metadata": {},
      "outputs": [],
      "source": [
        "# Set data type for 'subreddits' attribute explicitly\n",
        "# Convert the 'subreddits' attribute of each edge to a string\n",
        "nx.set_edge_attributes(graph, {edge: str(graph.edges[edge]['subreddits']) for edge in graph.edges}, 'subreddits')\n",
        "print(\"end\")"
      ]
    },
    {
      "cell_type": "code",
      "execution_count": null,
      "metadata": {},
      "outputs": [],
      "source": [
        "# Print the number of nodes and edges in the graph\n",
        "print('Number of nodes:', graph.number_of_nodes())\n",
        "print('Number of edges:', graph.number_of_edges())"
      ]
    },
    {
      "cell_type": "code",
      "execution_count": null,
      "metadata": {},
      "outputs": [],
      "source": [
        "# Save the graph in GraphML format\n",
        "nx.write_graphml(graph, 'Network.graphml')"
      ]
    },
    {
      "cell_type": "code",
      "execution_count": null,
      "metadata": {},
      "outputs": [],
      "source": [
        "# Draw the graph using NetworkX\n",
        "fig, ax = plt.subplots(figsize=(12, 12))\n",
        "# Compute the layout of the graph using the spring layout algorithm with a random seed and a distance parameter\n",
        "pos = nx.spring_layout(graph, seed=42, k=3)\n",
        "# Draw nodes with blue color and transparency\n",
        "nx.draw_networkx_nodes(graph, pos, node_size=50, node_color='blue', alpha=0.5)\n",
        "# Draw edges with gray color and transparency\n",
        "nx.draw_networkx_edges(graph, pos, edge_color='gray', alpha=0.5, width=2)\n",
        "# Draw labels for nodes with a small font size and using a sans-serif font\n",
        "nx.draw_networkx_labels(graph, pos, font_size=8, font_family='sans-serif')\n",
        "# Turn off the axis\n",
        "plt.axis('off')"
      ]
    },
    {
      "cell_type": "code",
      "execution_count": null,
      "metadata": {},
      "outputs": [],
      "source": [
        "# Save the graph as a PNG image\n",
        "plt.savefig('Build_Network_image.png', format='png')"
      ]
    },
    {
      "cell_type": "code",
      "execution_count": null,
      "metadata": {},
      "outputs": [],
      "source": [
        "# Display the graph\n",
        "plt.show()"
      ]
    }
  ],
  "metadata": {
    "colab": {
      "provenance": []
    },
    "kernelspec": {
      "display_name": "Python 3",
      "language": "python",
      "name": "python3"
    },
    "language_info": {
      "codemirror_mode": {
        "name": "ipython",
        "version": 3
      },
      "file_extension": ".py",
      "mimetype": "text/x-python",
      "name": "python",
      "nbconvert_exporter": "python",
      "pygments_lexer": "ipython3",
      "version": "3.11.3"
    },
    "orig_nbformat": 4
  },
  "nbformat": 4,
  "nbformat_minor": 0
}
