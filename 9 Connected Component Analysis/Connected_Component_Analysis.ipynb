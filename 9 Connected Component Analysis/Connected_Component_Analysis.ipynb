{
 "cells": [
  {
   "cell_type": "code",
   "execution_count": null,
   "metadata": {},
   "outputs": [],
   "source": [
    "import networkx as nx\n",
    "#imports the networkx library, which is a Python package for the creation, manipulation, and study of the structure, dynamics, and functions of complex networks."
   ]
  },
  {
   "cell_type": "code",
   "execution_count": null,
   "metadata": {},
   "outputs": [],
   "source": [
    "# Load the graph from the GraphML file\n",
    "graph = nx.read_graphml(\"Network.graphml\")\n",
    "# reads a graph from a GraphML file named \"Network.graphml\" and stores it in the graph variable."
   ]
  },
  {
   "cell_type": "code",
   "execution_count": null,
   "metadata": {},
   "outputs": [],
   "source": [
    "# Perform connected components analysis\n",
    "components = list(nx.connected_components(graph))\n",
    "# performs connected components analysis on the graph. It identifies the separate components or subgraphs within the graph and stores them as a list in the components variable.performs connected components analysis on the graph. It identifies the separate components or subgraphs within the graph and stores them as a list in the components variable."
   ]
  },
  {
   "cell_type": "code",
   "execution_count": null,
   "metadata": {},
   "outputs": [],
   "source": [
    "# Save the output to a text file\n",
    "output_file = \"Connected_Component_Analysis_results.txt\"\n",
    "with open(output_file, \"w\") as file:\n",
    "    file.write(f\"Number of connected components: {len(components)}\\n\\n\")\n",
    "    for i, comp in enumerate(components, start=1):\n",
    "        file.write(f\"Component {i}: {comp}\\n\")\n",
    "# saves the connected components analysis results to a text file named \"Connected_Component_Analysis_results.txt\". It writes the number of connected components to the file, followed by each component with its corresponding index."
   ]
  },
  {
   "cell_type": "code",
   "execution_count": null,
   "metadata": {},
   "outputs": [],
   "source": [
    "# Print the path of the saved file\n",
    "print(f\"Connected components analysis results saved to {output_file}.\")"
   ]
  }
 ],
 "metadata": {
  "kernelspec": {
   "display_name": "base",
   "language": "python",
   "name": "python3"
  },
  "language_info": {
   "codemirror_mode": {
    "name": "ipython",
    "version": 3
   },
   "file_extension": ".py",
   "mimetype": "text/x-python",
   "name": "python",
   "nbconvert_exporter": "python",
   "pygments_lexer": "ipython3",
   "version": "3.11.1"
  },
  "orig_nbformat": 4
 },
 "nbformat": 4,
 "nbformat_minor": 2
}
