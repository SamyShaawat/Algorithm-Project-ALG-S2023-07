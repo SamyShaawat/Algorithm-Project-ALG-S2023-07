{
 "cells": [
  {
   "cell_type": "code",
   "execution_count": 2,
   "metadata": {},
   "outputs": [
    {
     "name": "stdout",
     "output_type": "stream",
     "text": [
      "Density analysis results saved to density_analysis.txt.\n"
     ]
    }
   ],
   "source": [
    "import networkx as nx\n",
    "\n",
    "# Load the graph from the GraphML file\n",
    "graph = nx.read_graphml(\"Network.graphml\")\n",
    "\n",
    "# Get the number of nodes and edges in the graph\n",
    "num_nodes = graph.number_of_nodes()\n",
    "num_edges = graph.number_of_edges()\n",
    "\n",
    "# Calculate the density of the graph\n",
    "density = nx.density(graph)\n",
    "\n",
    "# Save density analysis results to a file\n",
    "output_file = \"Density_Analysis_results.txt\"\n",
    "with open(output_file, \"w\") as file:\n",
    "    file.write(f\"Number of Nodes: {num_nodes}\\n\")\n",
    "    file.write(f\"Number of Edges: {num_edges}\\n\")\n",
    "    file.write(f\"Density: {density}\\n\")\n",
    "\n",
    "print(f\"Density analysis results saved to {output_file}.\")\n"
   ]
  }
 ],
 "metadata": {
  "kernelspec": {
   "display_name": "Python 3",
   "language": "python",
   "name": "python3"
  },
  "language_info": {
   "codemirror_mode": {
    "name": "ipython",
    "version": 3
   },
   "file_extension": ".py",
   "mimetype": "text/x-python",
   "name": "python",
   "nbconvert_exporter": "python",
   "pygments_lexer": "ipython3",
   "version": "3.11.1"
  },
  "orig_nbformat": 4
 },
 "nbformat": 4,
 "nbformat_minor": 2
}
