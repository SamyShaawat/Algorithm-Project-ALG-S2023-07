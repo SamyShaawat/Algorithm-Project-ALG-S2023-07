{
 "cells": [
  {
   "cell_type": "code",
   "execution_count": 1,
   "metadata": {},
   "outputs": [],
   "source": [
    "import networkx as nx  # Import the NetworkX library for working with graphs"
   ]
  },
  {
   "cell_type": "code",
   "execution_count": null,
   "metadata": {},
   "outputs": [],
   "source": [
    "# Load the graph from the GraphML file\n",
    "graph = nx.read_graphml(\"Network.graphml\")"
   ]
  },
  {
   "cell_type": "code",
   "execution_count": null,
   "metadata": {},
   "outputs": [],
   "source": [
    "# Calculate the degree of each node\n",
    "degree = dict(graph.degree())"
   ]
  },
  {
   "cell_type": "code",
   "execution_count": null,
   "metadata": {},
   "outputs": [],
   "source": [
    "# Calculate the average degree\n",
    "average_degree = sum(degree.values()) / len(degree)"
   ]
  },
  {
   "cell_type": "code",
   "execution_count": null,
   "metadata": {},
   "outputs": [],
   "source": [
    "# Write the degree and average degree to a file\n",
    "with open(\"Degree_Analysis_results.txt\", \"w\") as f:\n",
    "    f.write(\"Degree of each node:\\n\")  # Write the header for the degree of each node section\n",
    "    for node, deg in degree.items():\n",
    "        f.write(f\"Node {node}: {deg}\\n\")  # Write the degree of each node to the file\n",
    "    f.write(f\"\\nAverage degree: {average_degree}\\n\")  # Write the average degree to the file"
   ]
  },
  {
   "attachments": {},
   "cell_type": "markdown",
   "metadata": {},
   "source": [
    "#### Analysis of Graph Degree\n",
    "\n",
    "This Python code analyzes the degree of a graph using the NetworkX library. It performs the following steps:\n",
    "\n",
    "1. Import the necessary library - NetworkX.\n",
    "2. Load the graph from a GraphML file.\n",
    "3. Calculate the degree of each node in the graph.\n",
    "4. Calculate the average degree of the graph.\n",
    "5. Determine the type of network based on the average degree.\n",
    "6. Write the degree, average degree, and network type to a text file.\n",
    "\n",
    "- The degree of a node in a graph is the number of edges connected to that node. The code calculates the degree of each node in the graph and stores it in a dictionary called `degree`, where the keys are the nodes and the values are their corresponding degrees.\n",
    "\n",
    "- The average degree of a graph is the sum of the degrees of all nodes divided by the total number of nodes in the graph.  \n",
    "- The code calculates the average degree of the graph by summing up all the degrees in the `degree` dictionary and dividing the result by the number of nodes in the graph.\n",
    "\n",
    "- Note: This code output used to determine Network Type "
   ]
  }
 ],
 "metadata": {
  "kernelspec": {
   "display_name": "Python 3",
   "language": "python",
   "name": "python3"
  },
  "language_info": {
   "codemirror_mode": {
    "name": "ipython",
    "version": 3
   },
   "file_extension": ".py",
   "mimetype": "text/x-python",
   "name": "python",
   "nbconvert_exporter": "python",
   "pygments_lexer": "ipython3",
   "version": "3.11.1"
  },
  "orig_nbformat": 4
 },
 "nbformat": 4,
 "nbformat_minor": 2
}
