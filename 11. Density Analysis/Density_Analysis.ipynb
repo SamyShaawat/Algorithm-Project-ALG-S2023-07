{
 "cells": [
  {
   "cell_type": "code",
   "execution_count": null,
   "metadata": {},
   "outputs": [],
   "source": [
    "import networkx as nx  # Import the NetworkX library for working with graphs"
   ]
  },
  {
   "cell_type": "code",
   "execution_count": null,
   "metadata": {},
   "outputs": [],
   "source": [
    "# Load the graph from the GraphML file\n",
    "graph = nx.read_graphml(\"Network.graphml\")"
   ]
  },
  {
   "cell_type": "code",
   "execution_count": null,
   "metadata": {},
   "outputs": [],
   "source": [
    "# Get the number of nodes and edges in the graph\n",
    "num_nodes = graph.number_of_nodes()\n",
    "num_edges = graph.number_of_edges()"
   ]
  },
  {
   "cell_type": "code",
   "execution_count": null,
   "metadata": {},
   "outputs": [],
   "source": [
    "# Calculate the density of the graph\n",
    "density = nx.density(graph)"
   ]
  },
  {
   "cell_type": "code",
   "execution_count": null,
   "metadata": {},
   "outputs": [],
   "source": [
    "# Save density analysis results to a file\n",
    "output_file = \"Density_Analysis_results.txt\"\n",
    "with open(output_file, \"w\") as file:\n",
    "    file.write(f\"Number of Nodes: {num_nodes}\\n\")  # Write the number of nodes to the file\n",
    "    file.write(f\"Number of Edges: {num_edges}\\n\")  # Write the number of edges to the file\n",
    "    file.write(f\"Density: {density}\\n\")  # Write the density to the file"
   ]
  },
  {
   "cell_type": "code",
   "execution_count": null,
   "metadata": {},
   "outputs": [],
   "source": [
    "print(f\"Density analysis results saved to {output_file}.\")  # Print a message indicating that the results were saved to a file"
   ]
  },
  {
   "cell_type": "code",
   "execution_count": 7,
   "metadata": {},
   "outputs": [
    {
     "name": "stdout",
     "output_type": "stream",
     "text": [
      "The density of the graph is the ratio of the number of edges (6877773) to the maximum number of edges possible (0.025617223190715334) in a graph with the same number of nodes.\n",
      "Density Ratio: 0.025617223190715334\n"
     ]
    }
   ],
   "source": [
    "# Get the number of nodes and edges in the graph\n",
    "num_nodes = graph.number_of_nodes()\n",
    "num_edges = graph.number_of_edges()\n",
    "\n",
    "# Calculate the density of the graph\n",
    "density = num_edges / (num_nodes * (num_nodes - 1) / 2)\n",
    "\n",
    "# Print the density ratio\n",
    "print(f\"The density of the graph is the ratio of the number of edges ({num_edges}) \"\n",
    "      f\"to the maximum number of edges possible ({num_nodes * (num_nodes - 1) / 2}) in a graph \"\n",
    "      f\"with the same number of nodes.\")\n",
    "print(f\"Density Ratio: {density}\")"
   ]
  },
  {
   "attachments": {},
   "cell_type": "markdown",
   "metadata": {},
   "source": [
    "#### Density Analysis\n",
    "\n",
    "This Python code analyzes the density of a graph using the NetworkX library. It performs the following steps:\n",
    "\n",
    "1. Import the necessary library - NetworkX.\n",
    "2. Load the graph from a GraphML file.\n",
    "3. Get the number of nodes and edges in the graph.\n",
    "4. Calculate the density of the graph.\n",
    "5. Write the number of nodes, number of edges, and density to a text file.\n",
    "\n",
    "- The density of a graph is the ratio of the number of edges in the graph to the maximum number of edges possible in a graph with the same number of nodes. The density is a measure of how \"dense\" the graph is with edges. A graph with a high density has many edges, while a graph with a low density has few edges.\n",
    "\n",
    "- The code calculates the density of the graph using the `nx.density()` function from the NetworkX library. The function takes a graph as input and returns the density of the graph.\n",
    "\n",
    "- After calculating the density of the graph, the code writes the number of nodes, number of edges, and density to a text file called \"Density_Analysis_results.txt\". This file will contain three lines: one for the number of nodes, one for the number of edges, and one for the density.\n"
   ]
  }
 ],
 "metadata": {
  "kernelspec": {
   "display_name": "Python 3",
   "language": "python",
   "name": "python3"
  },
  "language_info": {
   "codemirror_mode": {
    "name": "ipython",
    "version": 3
   },
   "file_extension": ".py",
   "mimetype": "text/x-python",
   "name": "python",
   "nbconvert_exporter": "python",
   "pygments_lexer": "ipython3",
   "version": "3.11.3"
  },
  "orig_nbformat": 4
 },
 "nbformat": 4,
 "nbformat_minor": 2
}
