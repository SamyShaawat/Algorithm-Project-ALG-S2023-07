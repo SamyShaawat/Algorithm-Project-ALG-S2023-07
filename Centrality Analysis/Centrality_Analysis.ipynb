{
 "cells": [
  {
   "cell_type": "code",
   "execution_count": 1,
   "metadata": {},
   "outputs": [],
   "source": [
    "import networkx as nx\n",
    "\n",
    "# Load the graph from a GraphML file\n",
    "graph = nx.read_graphml('Network.graphml')\n",
    "\n",
    "# Perform centrality analysis\n",
    "degree_centrality = nx.degree_centrality(graph)\n",
    "betweenness_centrality = nx.betweenness_centrality(graph)\n",
    "closeness_centrality = nx.closeness_centrality(graph)\n",
    "eigenvector_centrality = nx.eigenvector_centrality(graph)\n",
    "\n",
    "# Print the centrality measures for each node\n",
    "for node in graph.nodes:\n",
    "    print(f\"Node: {node}\")\n",
    "    print(f\"Degree Centrality: {degree_centrality[node]}\")\n",
    "    print(f\"Betweenness Centrality: {betweenness_centrality[node]}\")\n",
    "    print(f\"Closeness Centrality: {closeness_centrality[node]}\")\n",
    "    print(f\"Eigenvector Centrality: {eigenvector_centrality[node]}\")\n",
    "    print(\"------------------------\")"
   ]
  }
 ],
 "metadata": {
  "kernelspec": {
   "display_name": "base",
   "language": "python",
   "name": "python3"
  },
  "language_info": {
   "codemirror_mode": {
    "name": "ipython",
    "version": 3
   },
   "file_extension": ".py",
   "mimetype": "text/x-python",
   "name": "python",
   "nbconvert_exporter": "python",
   "pygments_lexer": "ipython3",
   "version": "3.9.7"
  },
  "orig_nbformat": 4
 },
 "nbformat": 4,
 "nbformat_minor": 2
}
