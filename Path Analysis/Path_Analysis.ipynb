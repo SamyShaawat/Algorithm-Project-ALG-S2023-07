{
 "cells": [
  {
   "cell_type": "code",
   "execution_count": null,
   "metadata": {},
   "outputs": [],
   "source": [
    "import networkx as nx\n",
    "import random\n",
    "\n",
    "# Load the GraphML file\n",
    "graph = nx.read_graphml(\"Network.graphml\")\n",
    "\n",
    "# Convert the graph nodes to a list\n",
    "nodes = list(graph.nodes())\n",
    "\n",
    "# Select two random nodes from the list\n",
    "random_nodes = random.sample(nodes, 2)\n",
    "source_node = random_nodes[0]\n",
    "target_node = random_nodes[1]\n",
    "\n",
    "# Find the shortest path\n",
    "shortest_path = nx.shortest_path(graph, source=source_node, target=target_node)\n",
    "shortest_path_length = nx.shortest_path_length(graph, source=source_node, target=target_node)\n",
    "\n",
    "\n",
    "\n",
    "# Save the output to a text file\n",
    "output_file = \"Path_Analysis_results.txt\"\n",
    "with open(output_file, \"w\") as file:\n",
    "    file.write(f\"Source Node: {source_node}\\n\")\n",
    "    file.write(f\"Target Node: {target_node}\\n\")\n",
    "    file.write(f\"Shortest Path: {shortest_path}\\n\")\n",
    "    file.write(f\"Shortest Path Length: {shortest_path_length}\\n\")\n",
    "\n",
    "print(f\"Path analysis results saved to {output_file}.\")\n"
   ]
  }
 ],
 "metadata": {
  "kernelspec": {
   "display_name": "base",
   "language": "python",
   "name": "python3"
  },
  "language_info": {
   "codemirror_mode": {
    "name": "ipython",
    "version": 3
   },
   "file_extension": ".py",
   "mimetype": "text/x-python",
   "name": "python",
   "nbconvert_exporter": "python",
   "pygments_lexer": "ipython3",
   "version": "3.11.1"
  },
  "orig_nbformat": 4
 },
 "nbformat": 4,
 "nbformat_minor": 2
}
