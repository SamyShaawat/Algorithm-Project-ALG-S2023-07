{
 "cells": [
  {
   "cell_type": "code",
   "execution_count": 1,
   "metadata": {},
   "outputs": [],
   "source": [
    "# Import the os module to interact with the operating system\n",
    "import os\n",
    "# Import the csv module to read and write csv files\n",
    "import csv\n"
   ]
  },
  {
   "cell_type": "code",
   "execution_count": null,
   "metadata": {},
   "outputs": [],
   "source": [
    "# Define a function that takes a path to a directory of text files and an output file name as parameters\n",
    "def search_files_for_common_usernames(path_to_files, output_file):\n",
    "    # Create an empty list to store the usernames\n",
    "    usernames = []\n",
    "    # Loop through all the files in the directory\n",
    "    for filename in os.listdir(path_to_files):\n",
    "        # Check if the file has a .txt extension\n",
    "        if filename.endswith(\".txt\"):\n",
    "            # Open the file in read mode\n",
    "            with open(os.path.join(path_to_files, filename), \"r\") as file:\n",
    "                # Loop through each line in the file\n",
    "                for line in file:\n",
    "                    # Remove any whitespace from the line and assign it to a variable called username\n",
    "                    username = line.strip()\n",
    "                    # Check if the username is not already in the list\n",
    "                    if username not in usernames:\n",
    "                        # Add the username to the list\n",
    "                        usernames.append(username)\n",
    "\n",
    "    # Open the output file in write mode with newline option set to \"\"\n",
    "    with open(output_file, \"w\", newline=\"\") as file:\n",
    "        # Create a csv writer object\n",
    "        writer = csv.writer(file)\n",
    "        # Write a header row with two columns: Username and Files\n",
    "        writer.writerow([\"Username\", \"Files\"])\n",
    "        # Loop through each username in the list\n",
    "        for username in usernames:\n",
    "            # Create a list with the username as the first element\n",
    "            row = [username]\n",
    "            # Loop through all the files in the directory again\n",
    "            for filename in os.listdir(path_to_files):\n",
    "                # Check if the file has a .txt extension\n",
    "                if filename.endswith(\".txt\"):\n",
    "                    # Open the file in read mode\n",
    "                    with open(os.path.join(path_to_files, filename), \"r\") as file:\n",
    "                        # Check if the username is present in the file content\n",
    "                        if username in file.read():\n",
    "                            # Append the file name to the row list\n",
    "                            row.append(filename)\n",
    "            # Write the row list to the output file\n",
    "            writer.writerow(row)\n",
    "\n",
    "    # Print a message indicating that the function is done and showing the output file name\n",
    "    print(f\"Usernames found. Output written to {output_file}.\")"
   ]
  },
  {
   "cell_type": "code",
   "execution_count": null,
   "metadata": {},
   "outputs": [],
   "source": [
    "# Assign a path to a directory of text files to a variable called path_to_files\n",
    "path_to_files = \"../subreddits\"\n",
    "# Assign an output file name to a variable called output_file\n",
    "output_file = \"../dataset.csv\"\n",
    "# Call the function with the path_to_files and output_file variables as arguments\n",
    "search_files_for_common_usernames(path_to_files, output_file)"
   ]
  },
  {
   "attachments": {},
   "cell_type": "markdown",
   "metadata": {},
   "source": [
    "#### What is search_files_for_common_usernames function?\n",
    "\n",
    "The function takes two parameters: a path to a directory of text files and an output file name. The function does the following steps:\n",
    "\n",
    "- It creates an empty list to store the usernames that are found in the text files.\n",
    "- It loops through all the files in the directory and checks if they have a .txt extension. If they do, it opens them in read mode and reads each line. It removes any whitespace from the line and assigns it to a variable called username. It then checks if the username is not already in the list. If it is not, it adds it to the list.\n",
    "- It opens the output file in write mode with newline option set to \"\" and creates a csv writer object. It writes a header row with two columns: Username and Files.\n",
    "- It loops through each username in the list and creates a list with the username as the first element. It then loops through all the files in the directory again and checks if they have a .txt extension. If they do, it opens them in read mode and checks if the username is present in the file content. If it is, it appends the file name to the list. It then writes the list to the output file as a row.\n",
    "- It prints a message indicating that the function is done and showing the output file name.\n",
    "\n",
    "The function can be used to find common usernames among different text files and write them to a csv file along with the files that contain them."
   ]
  }
 ],
 "metadata": {
  "kernelspec": {
   "display_name": "Python 3",
   "language": "python",
   "name": "python3"
  },
  "language_info": {
   "codemirror_mode": {
    "name": "ipython",
    "version": 3
   },
   "file_extension": ".py",
   "mimetype": "text/x-python",
   "name": "python",
   "nbconvert_exporter": "python",
   "pygments_lexer": "ipython3",
   "version": "3.11.3"
  },
  "orig_nbformat": 4
 },
 "nbformat": 4,
 "nbformat_minor": 2
}
