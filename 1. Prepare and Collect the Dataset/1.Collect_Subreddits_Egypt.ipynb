{
 "cells": [
  {
   "cell_type": "code",
   "execution_count": null,
   "metadata": {},
   "outputs": [],
   "source": [
    "import praw  # Import the PRAW library for interacting with the Reddit API"
   ]
  },
  {
   "cell_type": "code",
   "execution_count": null,
   "metadata": {},
   "outputs": [],
   "source": [
    "# Authenticate using your Reddit app credentials\n",
    "reddit = praw.Reddit(client_id='IVuNWrxtk3Ii2EvXXhRq4Q',\n",
    "                     client_secret='1KBGwJ1zPr5THycHuzowmA085yPqow',\n",
    "                     user_agent='Usernames')\n"
   ]
  },
  {
   "cell_type": "code",
   "execution_count": null,
   "metadata": {},
   "outputs": [],
   "source": [
    "# Get the top 100 subreddits in Egypt\n",
    "subreddit_list = reddit.subreddits.search('Egypt', limit=105)  # Search for subreddits with 'Egypt' in the name, and limit the number of results to 105 (to account for any private subreddits)\n",
    "subreddits = []  # Create an empty list to store the subreddit names"
   ]
  },
  {
   "cell_type": "code",
   "execution_count": null,
   "metadata": {},
   "outputs": [],
   "source": [
    "# Collect the names of the subreddits\n",
    "for subreddit in subreddit_list:  # Loop through each subreddit in the list\n",
    "    subreddits.append(subreddit.display_name)  # Append the subreddit name to the list"
   ]
  },
  {
   "cell_type": "code",
   "execution_count": null,
   "metadata": {},
   "outputs": [],
   "source": [
    "# Save the output in a text file\n",
    "with open('List_Of_Subreddits.txt', 'w') as file:  # Open a file called 'List_Of_Subreddits.txt' in write mode\n",
    "    file.write('\\n'.join(subreddits))  # Write each subreddit name to a new line in the file, separated by '\\n'"
   ]
  },
  {
   "cell_type": "code",
   "execution_count": null,
   "metadata": {},
   "outputs": [],
   "source": [
    "print(\"Subreddits saved to'List_Of_Subreddits.txt' file.\") # Print a message indicating that the output has been saved to a file"
   ]
  },
  {
   "attachments": {},
   "cell_type": "markdown",
   "metadata": {},
   "source": [
    "This Python code retrieves a list of subreddits related to Egypt from Reddit using the PRAW library. Here's what the code does:\n",
    "\n",
    "1. The code imports the PRAW library, which is used for interacting with the Reddit API.\n",
    "2. The code authenticates using your Reddit app credentials. This step is necessary for making API requests to Reddit on behalf of your app.\n",
    "3. The code searches for subreddits related to Egypt using the `reddit.subreddits.search()` function and limits the number of results to 105. This function returns a list of subreddit objects that match the search query.\n",
    "4. The code creates an empty list to store the names of the subreddits.\n",
    "5. The code loops through each subreddit object in the list and appends its display name to the `subreddits` list.\n",
    "6. The code writes the list of subreddit names to a text file called \"List_Of_Subreddits.txt\".\n",
    "7. The code prints a message indicating that the output has been saved to a file.\n",
    "\n",
    "The code uses the PRAW library to interact with the Reddit API. It retrieves a list of subreddits related to Egypt and saves the names of those subreddits to a file. This can be useful for analyzing the content and engagement on those subreddits, or for identifying popular topics and trends related to Egypt on Reddit."
   ]
  }
 ],
 "metadata": {
  "language_info": {
   "name": "python"
  },
  "orig_nbformat": 4
 },
 "nbformat": 4,
 "nbformat_minor": 2
}
